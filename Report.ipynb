{
 "cells": [
  {
   "cell_type": "markdown",
   "metadata": {},
   "source": [
    "# ECBM 4040 Fall 2020 FINAL PROJECT \n",
    "\n",
    "### Author:\n",
    "\n",
    "Wenjun Yang (wy2347)   \n",
    "\n",
    "Qihang Yang (qy2231)"
   ]
  },
  {
   "cell_type": "code",
   "execution_count": 1,
   "metadata": {},
   "outputs": [],
   "source": [
    "import numpy as np\n",
    "import tensorflow as tf"
   ]
  },
  {
   "cell_type": "code",
   "execution_count": 5,
   "metadata": {},
   "outputs": [],
   "source": [
    "from prep import *\n",
    "# from model import *"
   ]
  },
  {
   "cell_type": "markdown",
   "metadata": {},
   "source": [
    "### Step 1: Extract the midi data from zip file.\n",
    "\n",
    "* the data we use in this project comes from [Classical Piano Midi Page](http://www.piano-midi.de/) \n",
    "* all of them are midi file containing two tracks of piano for left hand and right hand\n"
   ]
  },
  {
   "cell_type": "code",
   "execution_count": null,
   "metadata": {},
   "outputs": [],
   "source": [
    "## you don't have to run this block\n",
    "\n",
    "# import zipfile\n",
    "# with zipfile.ZipFile('data/midifile.zip', 'r') as zip_ref:\n",
    "#     zip_ref.extractall('data/')"
   ]
  },
  {
   "cell_type": "markdown",
   "metadata": {},
   "source": [
    "### Step 2: Prepare your data for training"
   ]
  },
  {
   "cell_type": "markdown",
   "metadata": {},
   "source": [
    "#### A little insight about the input data structure\n",
    "The input data proposed by the original paper is a little bit complex and requires some knowledge about music. \\\n",
    "For more information on background knowledge of music, you can refer to the following two links:\n",
    "* [MIDI_events](https://www.mixagesoftware.com/en/midikit/help/HTML/midi_events.html#:~:text=The%20Note%20Off%20Event%20is,hard%20the%20key%20was%20released.) \n",
    "* [MIDI Turtorial](http://www.music-software-development.com/midi-tutorial.html) \n",
    "\n",
    "We spend quite a lot time trying to figure out the whole logic behind this and provide the following glossary table for your information.\\\n",
    "And for consistency, we will stick to the name convention stated in the original paper.\n",
    "\n",
    "* stateMatrix: matrix of state, for state definition see below\n",
    "* note: 0-77 lower_bound=24; upper_bound=102 \n",
    "* part_position(1) = note\n",
    "* pitchclass = 1 of 12 half steps CDEFGAB b#\n",
    "* part_pitchclass(12): one-hot pitchclass \n",
    "* state: (1,0) (1,1) (0,0) -> denoting holding or repeating a note\n",
    "* context: the count of each pitchclass played in last timestep \n",
    "* part_context(12): rearranged context\n",
    "* part_prev_vicinity(50):\n",
    "\n",
    "#### Note:\n",
    "* input for model: part_position + part_pitchclass + part_prev_vicinity + part_context + beat + [0] \n",
    "* total number of arguments: 1 + 12 + 50 + 12 + 4 + 1 = 80\n",
    "* for each of the 78 note you have 80 arguments in above structure\n",
    "* and we only use sequences of 128 timesteps for training\n",
    "* so the input data form will be 128 X 78 X 80\n",
    "\n",
    "Please refer to prep.py for the details of implementation of data preprocessing part."
   ]
  },
  {
   "cell_type": "markdown",
   "metadata": {},
   "source": [
    "The general data preparation process is as the following flowchart:\n",
    "<img src=\"image/Data Prep.png\" />\n"
   ]
  },
  {
   "cell_type": "code",
   "execution_count": 6,
   "metadata": {},
   "outputs": [
    {
     "name": "stdout",
     "output_type": "stream",
     "text": [
      "load liz_et2\n",
      "load scn16_3\n",
      "load haydn_43_1\n",
      "load mendel_op30_3\n",
      "load beethoven_les_adieux_1\n",
      "load br_rhap\n",
      "load grieg_zwerge\n",
      "load haydn_7_1\n",
      "load muss_8\n",
      "load schu_143_2\n",
      "load muss_4\n",
      "load scn68_12\n",
      "load clementi_opus36_1_1\n",
      "load waldstein_3\n",
      "load liz_et_trans5\n",
      "load ty_maerz\n",
      "load ty_juli\n",
      "load rac_op3_2\n",
      "load chpn-p3\n",
      "load gra_esp_4\n",
      "load scn15_5\n",
      "load beethoven_opus10_2\n",
      "load grieg_wedding\n",
      "load mz_330_1\n",
      "load haydn_35_2\n",
      "load chpn_op27_1\n",
      "load schubert_D935_3\n",
      "load mendel_op19_4\n",
      "load schub_d960_1\n",
      "load haydn_9_1\n",
      "load mz_545_1\n",
      "load rac_op33_6\n",
      "load liz_rhap15\n",
      "load alb_esp2\n",
      "load grieg_berceuse\n",
      "load rac_op23_2\n",
      "load bach_850\n",
      "load beethoven_opus22_1\n",
      "load burg_quelle\n",
      "load debussy_cc_4\n",
      "load schubert_D850_4\n",
      "load chpn-p4\n",
      "load mendel_op30_1\n",
      "load pathetique_3\n",
      "load clementi_opus36_6_1\n",
      "load mendel_op62_3\n",
      "load schu_143_1\n",
      "load chpn_op25_e11\n",
      "load scn15_4\n",
      "load schub_d960_4\n",
      "load mz_570_3\n",
      "load clementi_opus36_5_1\n",
      "load scn15_13\n",
      "load grieg_waechter\n",
      "load chpn-p8\n",
      "load brahms_opus1_2\n",
      "load rac_op32_1\n",
      "load liz_et_trans4\n",
      "load haydn_8_1\n",
      "load schuim-1\n",
      "load scn15_11\n",
      "load chpn_op10_e01\n",
      "load scn15_7\n",
      "load burg_agitato\n",
      "load DEB_PASS\n",
      "load chpn_op35_3\n",
      "load beethoven_opus90_2\n",
      "load beethoven_opus10_3\n",
      "load mendel_op53_5\n",
      "load chpn_op25_e2\n",
      "load clementi_opus36_5_3\n",
      "load mz_311_2\n",
      "load schumm-3\n",
      "load debussy_cc_2\n",
      "load scn68_10\n",
      "load haydn_35_1\n",
      "load rac_op32_13\n",
      "load schub_d760_1\n",
      "load deb_prel\n",
      "load beethoven_les_adieux_2\n",
      "load chpn_op35_4\n",
      "load chpn-p20\n",
      "load chpn_op25_e1\n",
      "load debussy_cc_1\n",
      "load rac_op23_7\n",
      "load brahms_opus1_1\n",
      "load clementi_opus36_4_2\n",
      "load bor_ps1\n",
      "load scn15_1\n",
      "load bor_ps5\n",
      "load grieg_halling\n",
      "load god_alb_esp2\n",
      "load liz_et4\n",
      "load schubert_D935_1\n",
      "load pathetique_1\n",
      "load clementi_opus36_2_1\n",
      "load mendel_op19_1\n",
      "load mendel_op30_5\n",
      "load grieg_butterfly\n",
      "load clementi_opus36_4_3\n",
      "load chpn-p9\n",
      "load beethoven_hammerklavier_1\n",
      "load ty_november\n",
      "load schub_d760_4\n",
      "load appass_3\n",
      "load burg_trennung\n",
      "load mz_333_1\n",
      "load chpn-p23\n",
      "load bach_846\n",
      "load hay_40_2\n",
      "load ty_oktober\n",
      "load schumm-5\n",
      "load grieg_kobold\n",
      "load mond_1\n",
      "load ty_september\n",
      "load schubert_D850_1\n",
      "load appass_2\n",
      "load chpn-p15\n",
      "load mz_331_3\n",
      "load schumm-4\n",
      "load alb_esp5\n",
      "load mz_570_2\n",
      "load clementi_opus36_3_2\n",
      "load chpn_op10_e05\n",
      "load chpn_op25_e4\n",
      "load mz_545_3\n",
      "load scn16_7\n",
      "load mz_311_1\n",
      "load waldstein_1\n",
      "load mz_333_3\n",
      "load debussy_cc_6\n",
      "load scn15_3\n",
      "load liz_rhap12\n",
      "load grieg_once_upon_a_time\n",
      "load bach_847\n",
      "load haydn_43_3\n",
      "load clementi_opus36_3_1\n",
      "load beethoven_opus22_4\n",
      "load mond_3\n",
      "load burg_gewitter\n",
      "load burg_spinnerlied\n",
      "load fruehlingsrauschen\n",
      "load chpn_op35_1\n",
      "load scn15_10\n",
      "load haydn_8_3\n",
      "load chpn-p2\n",
      "load rac_op23_5\n",
      "load ty_juni\n",
      "load mz_330_3\n",
      "load bor_ps7\n",
      "load haydn_9_3\n",
      "load chpn_op10_e12\n",
      "load liz_rhap02\n",
      "load scn16_1\n",
      "load chpn-p1\n",
      "load scn16_4\n",
      "load liz_et5\n",
      "load burg_erwachen\n",
      "load liz_rhap09\n",
      "load ty_februar\n",
      "load rav_gib\n",
      "load chpn_op66\n",
      "load scn15_12\n",
      "load rac_op33_8\n",
      "load clementi_opus36_3_3\n",
      "load mz_332_2\n",
      "load haydn_33_1\n",
      "load chpn_op25_e12\n",
      "load bk_xmas2\n",
      "load pathetique_2\n",
      "load chpn-p16\n",
      "load scn15_8\n",
      "load chpn-p14\n"
     ]
    }
   ],
   "source": [
    "training_data = load_data('data/music')"
   ]
  },
  {
   "cell_type": "markdown",
   "metadata": {},
   "source": [
    "### (Optional) Step 3: Train the theano-based model"
   ]
  },
  {
   "cell_type": "code",
   "execution_count": 4,
   "metadata": {},
   "outputs": [
    {
     "name": "stderr",
     "output_type": "stream",
     "text": [
      "WARNING (theano.tensor.blas): Using NumPy C-API based implementation for BLAS functions.\n"
     ]
    }
   ],
   "source": [
    "from Original.ori_prep import *\n",
    "import Original.ori_multi_training\n",
    "import Original.ori_model"
   ]
  },
  {
   "cell_type": "code",
   "execution_count": 5,
   "metadata": {},
   "outputs": [
    {
     "ename": "NameError",
     "evalue": "name 'multi_training' is not defined",
     "output_type": "error",
     "traceback": [
      "\u001b[0;31m---------------------------------------------------------------------------\u001b[0m",
      "\u001b[0;31mNameError\u001b[0m                                 Traceback (most recent call last)",
      "\u001b[0;32m<ipython-input-5-cec6d0a70377>\u001b[0m in \u001b[0;36m<module>\u001b[0;34m\u001b[0m\n\u001b[0;32m----> 1\u001b[0;31m \u001b[0mpcs\u001b[0m \u001b[0;34m=\u001b[0m \u001b[0mmulti_training\u001b[0m\u001b[0;34m.\u001b[0m\u001b[0mloadPieces\u001b[0m\u001b[0;34m(\u001b[0m\u001b[0;34m\"music\"\u001b[0m\u001b[0;34m)\u001b[0m\u001b[0;34m\u001b[0m\u001b[0;34m\u001b[0m\u001b[0m\n\u001b[0m\u001b[1;32m      2\u001b[0m \u001b[0;34m\u001b[0m\u001b[0m\n\u001b[1;32m      3\u001b[0m \u001b[0mm\u001b[0m \u001b[0;34m=\u001b[0m \u001b[0mmodel\u001b[0m\u001b[0;34m.\u001b[0m\u001b[0mModel\u001b[0m\u001b[0;34m(\u001b[0m\u001b[0;34m[\u001b[0m\u001b[0;36m300\u001b[0m\u001b[0;34m,\u001b[0m\u001b[0;36m300\u001b[0m\u001b[0;34m]\u001b[0m\u001b[0;34m,\u001b[0m\u001b[0;34m[\u001b[0m\u001b[0;36m100\u001b[0m\u001b[0;34m,\u001b[0m\u001b[0;36m50\u001b[0m\u001b[0;34m]\u001b[0m\u001b[0;34m,\u001b[0m \u001b[0mdropout\u001b[0m\u001b[0;34m=\u001b[0m\u001b[0;36m0.5\u001b[0m\u001b[0;34m)\u001b[0m\u001b[0;34m\u001b[0m\u001b[0;34m\u001b[0m\u001b[0m\n\u001b[1;32m      4\u001b[0m \u001b[0;34m\u001b[0m\u001b[0m\n\u001b[1;32m      5\u001b[0m \u001b[0mmulti_training\u001b[0m\u001b[0;34m.\u001b[0m\u001b[0mtrainPiece\u001b[0m\u001b[0;34m(\u001b[0m\u001b[0mm\u001b[0m\u001b[0;34m,\u001b[0m \u001b[0mpcs\u001b[0m\u001b[0;34m,\u001b[0m \u001b[0;36m10000\u001b[0m\u001b[0;34m)\u001b[0m\u001b[0;34m\u001b[0m\u001b[0;34m\u001b[0m\u001b[0m\n",
      "\u001b[0;31mNameError\u001b[0m: name 'multi_training' is not defined"
     ]
    }
   ],
   "source": [
    "pcs = multi_training.loadPieces(\"music\")\n",
    "\n",
    "m = model.Model([300,300],[100,50], dropout=0.5)\n",
    "\n",
    "multi_training.trainPiece(m, pcs, 10000)\n",
    "\n",
    "pickle.dump( m.learned_config, open( \"output/final_learned_config.p\", \"wb\" ))"
   ]
  },
  {
   "cell_type": "markdown",
   "metadata": {},
   "source": [
    "### Step 4: Train our model"
   ]
  },
  {
   "cell_type": "markdown",
   "metadata": {},
   "source": [
    "description"
   ]
  },
  {
   "cell_type": "markdown",
   "metadata": {},
   "source": [
    "* flowchart"
   ]
  },
  {
   "cell_type": "markdown",
   "metadata": {},
   "source": [
    "Try #2"
   ]
  },
  {
   "cell_type": "code",
   "execution_count": 46,
   "metadata": {},
   "outputs": [],
   "source": [
    "# Unsolved Problem\n",
    "############################################################\n",
    "# 1. Is this generally the right architecture\n",
    "# 2. Probably need change all the 128 into None? But this raises error\n",
    "# 3. 'mask' function in original code, does Keras take care of that for us?\n",
    "# 4. What is the target to validate model? The whole state sequence [batch,128,78,2] \n",
    "#                                          or the state of only the next timestep\n",
    "# 5. The function to predict next note to play?\n",
    "# 6. Way too many parameters in the last dense layer! Not quite sure it is what it should be\n",
    "\n",
    "inputs = tf.keras.Input(shape=(127,78,80))\n",
    "\n",
    "# For why use permute dimensions and use time distributed layers \n",
    "# please refer to https://keras.io/api/layers/recurrent_layers/time_distributed/\n",
    "\n",
    "inputs_rotate= tf.keras.backend.permute_dimensions(inputs,(0,2,1,3)) #(batch,78,128,80)\n",
    "\n",
    "time_lstm1 = tf.keras.layers.LSTM(300,return_sequences=True,dropout=0.5)\n",
    "time_lstm2 = tf.keras.layers.LSTM(300,return_sequences=True,dropout=0.5)\n",
    "\n",
    "inter1 = tf.keras.layers.TimeDistributed(time_lstm1)(inputs_rotate) #(batch,78,128,300)\n",
    "inter2 = tf.keras.layers.TimeDistributed(time_lstm2)(inter1) #(batch,78,128,300)\n",
    "\n",
    "note_lstm1 = tf.keras.layers.LSTM(100,return_sequences=True,dropout=0.5)\n",
    "note_lstm2 = tf.keras.layers.LSTM(50,return_sequences=True,dropout=0.5)\n",
    "\n",
    "inter2_rotate= tf.keras.backend.permute_dimensions(inter2,(0,2,1,3)) #(batch,128,78,300)\n",
    "\n",
    "# the input of note-axis part of model will be \n",
    "# 1) the note-state vector from previous LSTM stack (batch,128,78,300)\n",
    "# 2) where the previous note was chosen to be played (batch,128,78,1)\n",
    "# 3) where the previous note was chosen to be articulated (batch,128,78,1)\n",
    "# that's why we are using padding here and concatenate the 3 together \n",
    "# please see https://www.tensorflow.org/api_docs/python/tf/pad \n",
    "# https://www.tensorflow.org/api_docs/python/tf/concat\n",
    "# for reference\n",
    "\n",
    "state_inputs = tf.keras.Input(shape=(127,78,2))\n",
    "\n",
    "paddings=[[0,0],[0,0],[1,0],[0,0]]\n",
    "\n",
    "prev_note_state=tf.pad(state_inputs[:,:,:-1,:], paddings, 'CONSTANT', constant_values=0)   # (batch,128,78,2)\n",
    "\n",
    "inter_input1=tf.concat((inter2_rotate,prev_note_state),axis=-1) # (batch,128,78,302)\n",
    "\n",
    "inter3 = tf.keras.layers.TimeDistributed(note_lstm1)(inter_input1) #(batch,128,78,100)\n",
    "\n",
    "inter_input2=tf.concat((inter3,prev_note_state),axis=-1) #(batch,128,78,102)\n",
    "\n",
    "inter4 = tf.keras.layers.TimeDistributed(note_lstm2)(inter_input2) ##(batch,128,78,50)\n",
    "\n",
    "outputs = tf.keras.layers.Flatten()(inter4)\n",
    "\n",
    "outputs = tf.keras.layers.Dropout(.5)(outputs)\n",
    "\n",
    "outputs = tf.keras.layers.Dense(156,activation='sigmoid')(outputs) #（batch,128,78,2）\n",
    "\n",
    "# output the final result, i.e., probability of playing or articulating certain notes\n",
    "outputs = tf.keras.layers.Reshape((78,2))(outputs) #（batch,78,2）\n",
    "\n",
    "model=tf.keras.Model(inputs=[inputs,state_inputs],outputs=outputs)"
   ]
  },
  {
   "cell_type": "code",
   "execution_count": 90,
   "metadata": {
    "scrolled": false
   },
   "outputs": [
    {
     "name": "stdout",
     "output_type": "stream",
     "text": [
      "Model: \"model_3\"\n",
      "__________________________________________________________________________________________________\n",
      "Layer (type)                    Output Shape         Param #     Connected to                     \n",
      "==================================================================================================\n",
      "input_7 (InputLayer)            [(None, 127, 78, 80) 0                                            \n",
      "__________________________________________________________________________________________________\n",
      "tf_op_layer_Transpose_6 (Tensor [(None, 78, 127, 80) 0           input_7[0][0]                    \n",
      "__________________________________________________________________________________________________\n",
      "time_distributed_12 (TimeDistri (None, 78, 127, 300) 457200      tf_op_layer_Transpose_6[0][0]    \n",
      "__________________________________________________________________________________________________\n",
      "input_8 (InputLayer)            [(None, 127, 78, 2)] 0                                            \n",
      "__________________________________________________________________________________________________\n",
      "time_distributed_13 (TimeDistri (None, 78, 127, 300) 721200      time_distributed_12[0][0]        \n",
      "__________________________________________________________________________________________________\n",
      "tf_op_layer_strided_slice_3 (Te [(None, 127, 77, 2)] 0           input_8[0][0]                    \n",
      "__________________________________________________________________________________________________\n",
      "tf_op_layer_Transpose_7 (Tensor [(None, 127, 78, 300 0           time_distributed_13[0][0]        \n",
      "__________________________________________________________________________________________________\n",
      "tf_op_layer_Pad_3 (TensorFlowOp [(None, 127, 78, 2)] 0           tf_op_layer_strided_slice_3[0][0]\n",
      "__________________________________________________________________________________________________\n",
      "tf_op_layer_concat_6 (TensorFlo [(None, 127, 78, 302 0           tf_op_layer_Transpose_7[0][0]    \n",
      "                                                                 tf_op_layer_Pad_3[0][0]          \n",
      "__________________________________________________________________________________________________\n",
      "time_distributed_14 (TimeDistri (None, 127, 78, 100) 161200      tf_op_layer_concat_6[0][0]       \n",
      "__________________________________________________________________________________________________\n",
      "tf_op_layer_concat_7 (TensorFlo [(None, 127, 78, 102 0           time_distributed_14[0][0]        \n",
      "                                                                 tf_op_layer_Pad_3[0][0]          \n",
      "__________________________________________________________________________________________________\n",
      "time_distributed_15 (TimeDistri (None, 127, 78, 50)  30600       tf_op_layer_concat_7[0][0]       \n",
      "__________________________________________________________________________________________________\n",
      "flatten_3 (Flatten)             (None, 495300)       0           time_distributed_15[0][0]        \n",
      "__________________________________________________________________________________________________\n",
      "dropout_3 (Dropout)             (None, 495300)       0           flatten_3[0][0]                  \n",
      "__________________________________________________________________________________________________\n",
      "dense_3 (Dense)                 (None, 156)          77266956    dropout_3[0][0]                  \n",
      "__________________________________________________________________________________________________\n",
      "reshape_3 (Reshape)             (None, 78, 2)        0           dense_3[0][0]                    \n",
      "==================================================================================================\n",
      "Total params: 78,637,156\n",
      "Trainable params: 78,637,156\n",
      "Non-trainable params: 0\n",
      "__________________________________________________________________________________________________\n"
     ]
    }
   ],
   "source": [
    "model.summary()"
   ]
  },
  {
   "cell_type": "code",
   "execution_count": 35,
   "metadata": {},
   "outputs": [],
   "source": [
    "# custom loss function\n",
    "# the output of model is the same shape with the sample's state matrix\n",
    "# that is (time,note(78),state(2))\n",
    "# the 2 for each time and note denote the probability of the note being played or articulated repectively in the last step\n",
    "# we use the negative log likelihood to denote the loss, the log function can avoid the numbers being too small\n",
    "\n",
    "def my_loss(y_true, y_pred):\n",
    "#     y_pred=np.asarray(y_pred)\n",
    "#     y_true=np.asarray(y_true)\n",
    "    loss=-tf.keras.backend.sum(tf.math.log(y_pred*y_true+(1-y_pred)*(1-y_true)+np.spacing(np.float32(1.0)))) # numeric stablity\n",
    "    return loss\n"
   ]
  },
  {
   "cell_type": "code",
   "execution_count": 47,
   "metadata": {},
   "outputs": [],
   "source": [
    "model.compile(optimizer=tf.keras.optimizers.Adam(3e-5),loss= my_loss)"
   ]
  },
  {
   "cell_type": "code",
   "execution_count": 10,
   "metadata": {},
   "outputs": [],
   "source": [
    "### new generator\n",
    "def update_input_batch_generator(statemat_dict):\n",
    "    \n",
    "    # training data generator\n",
    "    \n",
    "    while True:\n",
    "        batch=build_input_batch(statemat_dict)\n",
    "        yield ([batch[0][:,:-1],batch[1][:,:-1]],batch[1][:,-1])\n",
    "    "
   ]
  },
  {
   "cell_type": "code",
   "execution_count": 43,
   "metadata": {},
   "outputs": [
    {
     "name": "stdout",
     "output_type": "stream",
     "text": [
      "(10, 127, 78, 80)\n",
      "(10, 127, 78, 2)\n",
      "(10, 78, 2)\n",
      "(10, 127, 78, 80)\n",
      "(10, 127, 78, 2)\n",
      "(10, 78, 2)\n"
     ]
    }
   ],
   "source": [
    "gen=update_input_batch_generator(training_data)\n",
    "num=0\n",
    "for i in gen:\n",
    "    print(i[0][0].shape)\n",
    "    print(i[0][1].shape)\n",
    "    print(i[1].shape)\n",
    "    num=num+1\n",
    "    if num>=2:\n",
    "        break"
   ]
  },
  {
   "cell_type": "code",
   "execution_count": 76,
   "metadata": {},
   "outputs": [
    {
     "name": "stdout",
     "output_type": "stream",
     "text": [
      "(10, 127, 78, 80)\n"
     ]
    }
   ],
   "source": [
    "print(next(gen)[0][0].shape)"
   ]
  },
  {
   "cell_type": "code",
   "execution_count": 34,
   "metadata": {},
   "outputs": [
    {
     "data": {
      "text/plain": [
       "1.1920929e-07"
      ]
     },
     "execution_count": 34,
     "metadata": {},
     "output_type": "execute_result"
    }
   ],
   "source": [
    "np.spacing(np.float32(1.0))"
   ]
  },
  {
   "cell_type": "code",
   "execution_count": 11,
   "metadata": {
    "scrolled": true
   },
   "outputs": [
    {
     "name": "stdout",
     "output_type": "stream",
     "text": [
      "WARNING:tensorflow:From <ipython-input-11-2178412cbae4>:2: Model.fit_generator (from tensorflow.python.keras.engine.training) is deprecated and will be removed in a future version.\n",
      "Instructions for updating:\n",
      "Please use Model.fit, which supports generators.\n",
      "Epoch 1/20\n",
      "25/25 [==============================] - 48s 2s/step - loss: 233.9924\n",
      "Epoch 2/20\n",
      "25/25 [==============================] - 47s 2s/step - loss: 145.0835\n",
      "Epoch 3/20\n",
      "25/25 [==============================] - 49s 2s/step - loss: 145.8956\n",
      "Epoch 4/20\n",
      "25/25 [==============================] - 46s 2s/step - loss: 143.3717\n",
      "Epoch 5/20\n",
      "25/25 [==============================] - 48s 2s/step - loss: 144.6403\n",
      "Epoch 6/20\n",
      "25/25 [==============================] - 46s 2s/step - loss: 145.8357\n",
      "Epoch 7/20\n",
      "25/25 [==============================] - 47s 2s/step - loss: 141.5161\n",
      "Epoch 8/20\n",
      "25/25 [==============================] - 45s 2s/step - loss: 132.6888\n",
      "Epoch 9/20\n",
      "25/25 [==============================] - 46s 2s/step - loss: 131.4956\n",
      "Epoch 10/20\n",
      "25/25 [==============================] - 48s 2s/step - loss: 135.8659\n",
      "Epoch 11/20\n",
      "25/25 [==============================] - 45s 2s/step - loss: 144.1278\n",
      "Epoch 12/20\n",
      "25/25 [==============================] - 48s 2s/step - loss: 143.5365\n",
      "Epoch 13/20\n",
      "25/25 [==============================] - 46s 2s/step - loss: 138.0933\n",
      "Epoch 14/20\n",
      "25/25 [==============================] - 47s 2s/step - loss: 134.8272\n",
      "Epoch 15/20\n",
      "25/25 [==============================] - 45s 2s/step - loss: 129.3073\n",
      "Epoch 16/20\n",
      "25/25 [==============================] - 47s 2s/step - loss: 128.2956\n",
      "Epoch 17/20\n",
      "25/25 [==============================] - 45s 2s/step - loss: 132.4619\n",
      "Epoch 18/20\n",
      "25/25 [==============================] - 47s 2s/step - loss: 131.9466\n",
      "Epoch 19/20\n",
      "25/25 [==============================] - 45s 2s/step - loss: 131.0165\n",
      "Epoch 20/20\n",
      "25/25 [==============================] - 47s 2s/step - loss: 119.8808\n"
     ]
    },
    {
     "data": {
      "text/plain": [
       "<tensorflow.python.keras.callbacks.History at 0x7fb728eb6e50>"
      ]
     },
     "execution_count": 11,
     "metadata": {},
     "output_type": "execute_result"
    }
   ],
   "source": [
    "data_gen=update_input_batch_generator(training_data)\n",
    "model.fit_generator(data_gen,epochs=20,steps_per_epoch=25)"
   ]
  },
  {
   "cell_type": "code",
   "execution_count": 26,
   "metadata": {},
   "outputs": [],
   "source": [
    "model.save('model/model_adam_3e5',save_format='h5')"
   ]
  },
  {
   "cell_type": "code",
   "execution_count": 36,
   "metadata": {},
   "outputs": [
    {
     "ename": "ValueError",
     "evalue": "Unknown loss function:my_loss",
     "output_type": "error",
     "traceback": [
      "\u001b[0;31m---------------------------------------------------------------------------\u001b[0m",
      "\u001b[0;31mValueError\u001b[0m                                Traceback (most recent call last)",
      "\u001b[0;32m<ipython-input-36-d2f646032c51>\u001b[0m in \u001b[0;36m<module>\u001b[0;34m\u001b[0m\n\u001b[0;32m----> 1\u001b[0;31m \u001b[0mmodel\u001b[0m\u001b[0;34m=\u001b[0m\u001b[0mtf\u001b[0m\u001b[0;34m.\u001b[0m\u001b[0mkeras\u001b[0m\u001b[0;34m.\u001b[0m\u001b[0mmodels\u001b[0m\u001b[0;34m.\u001b[0m\u001b[0mload_model\u001b[0m\u001b[0;34m(\u001b[0m\u001b[0;34m\"model/model_adam_3e5\"\u001b[0m\u001b[0;34m)\u001b[0m\u001b[0;34m\u001b[0m\u001b[0;34m\u001b[0m\u001b[0m\n\u001b[0m\u001b[1;32m      2\u001b[0m \u001b[0;34m\u001b[0m\u001b[0m\n",
      "\u001b[0;32m~/anaconda3/envs/envTF22/lib/python3.7/site-packages/tensorflow/python/keras/saving/save.py\u001b[0m in \u001b[0;36mload_model\u001b[0;34m(filepath, custom_objects, compile)\u001b[0m\n\u001b[1;32m    182\u001b[0m     if (h5py is not None and (\n\u001b[1;32m    183\u001b[0m         isinstance(filepath, h5py.File) or h5py.is_hdf5(filepath))):\n\u001b[0;32m--> 184\u001b[0;31m       \u001b[0;32mreturn\u001b[0m \u001b[0mhdf5_format\u001b[0m\u001b[0;34m.\u001b[0m\u001b[0mload_model_from_hdf5\u001b[0m\u001b[0;34m(\u001b[0m\u001b[0mfilepath\u001b[0m\u001b[0;34m,\u001b[0m \u001b[0mcustom_objects\u001b[0m\u001b[0;34m,\u001b[0m \u001b[0mcompile\u001b[0m\u001b[0;34m)\u001b[0m\u001b[0;34m\u001b[0m\u001b[0;34m\u001b[0m\u001b[0m\n\u001b[0m\u001b[1;32m    185\u001b[0m \u001b[0;34m\u001b[0m\u001b[0m\n\u001b[1;32m    186\u001b[0m     \u001b[0;32mif\u001b[0m \u001b[0msys\u001b[0m\u001b[0;34m.\u001b[0m\u001b[0mversion_info\u001b[0m \u001b[0;34m>=\u001b[0m \u001b[0;34m(\u001b[0m\u001b[0;36m3\u001b[0m\u001b[0;34m,\u001b[0m \u001b[0;36m4\u001b[0m\u001b[0;34m)\u001b[0m \u001b[0;32mand\u001b[0m \u001b[0misinstance\u001b[0m\u001b[0;34m(\u001b[0m\u001b[0mfilepath\u001b[0m\u001b[0;34m,\u001b[0m \u001b[0mpathlib\u001b[0m\u001b[0;34m.\u001b[0m\u001b[0mPath\u001b[0m\u001b[0;34m)\u001b[0m\u001b[0;34m:\u001b[0m\u001b[0;34m\u001b[0m\u001b[0;34m\u001b[0m\u001b[0m\n",
      "\u001b[0;32m~/anaconda3/envs/envTF22/lib/python3.7/site-packages/tensorflow/python/keras/saving/hdf5_format.py\u001b[0m in \u001b[0;36mload_model_from_hdf5\u001b[0;34m(filepath, custom_objects, compile)\u001b[0m\n\u001b[1;32m    192\u001b[0m       \u001b[0;31m# Compile model.\u001b[0m\u001b[0;34m\u001b[0m\u001b[0;34m\u001b[0m\u001b[0;34m\u001b[0m\u001b[0m\n\u001b[1;32m    193\u001b[0m       model.compile(**saving_utils.compile_args_from_training_config(\n\u001b[0;32m--> 194\u001b[0;31m           training_config, custom_objects))\n\u001b[0m\u001b[1;32m    195\u001b[0m \u001b[0;34m\u001b[0m\u001b[0m\n\u001b[1;32m    196\u001b[0m       \u001b[0;31m# Set optimizer weights.\u001b[0m\u001b[0;34m\u001b[0m\u001b[0;34m\u001b[0m\u001b[0;34m\u001b[0m\u001b[0m\n",
      "\u001b[0;32m~/anaconda3/envs/envTF22/lib/python3.7/site-packages/tensorflow/python/keras/saving/saving_utils.py\u001b[0m in \u001b[0;36mcompile_args_from_training_config\u001b[0;34m(training_config, custom_objects)\u001b[0m\n\u001b[1;32m    213\u001b[0m     \u001b[0mloss_config\u001b[0m \u001b[0;34m=\u001b[0m \u001b[0mtraining_config\u001b[0m\u001b[0;34m.\u001b[0m\u001b[0mget\u001b[0m\u001b[0;34m(\u001b[0m\u001b[0;34m'loss'\u001b[0m\u001b[0;34m,\u001b[0m \u001b[0;32mNone\u001b[0m\u001b[0;34m)\u001b[0m\u001b[0;34m\u001b[0m\u001b[0;34m\u001b[0m\u001b[0m\n\u001b[1;32m    214\u001b[0m     \u001b[0;32mif\u001b[0m \u001b[0mloss_config\u001b[0m \u001b[0;32mis\u001b[0m \u001b[0;32mnot\u001b[0m \u001b[0;32mNone\u001b[0m\u001b[0;34m:\u001b[0m\u001b[0;34m\u001b[0m\u001b[0;34m\u001b[0m\u001b[0m\n\u001b[0;32m--> 215\u001b[0;31m       \u001b[0mloss\u001b[0m \u001b[0;34m=\u001b[0m \u001b[0m_deserialize_nested_config\u001b[0m\u001b[0;34m(\u001b[0m\u001b[0mlosses\u001b[0m\u001b[0;34m.\u001b[0m\u001b[0mdeserialize\u001b[0m\u001b[0;34m,\u001b[0m \u001b[0mloss_config\u001b[0m\u001b[0;34m)\u001b[0m\u001b[0;34m\u001b[0m\u001b[0;34m\u001b[0m\u001b[0m\n\u001b[0m\u001b[1;32m    216\u001b[0m \u001b[0;34m\u001b[0m\u001b[0m\n\u001b[1;32m    217\u001b[0m     \u001b[0;31m# Recover metrics.\u001b[0m\u001b[0;34m\u001b[0m\u001b[0;34m\u001b[0m\u001b[0;34m\u001b[0m\u001b[0m\n",
      "\u001b[0;32m~/anaconda3/envs/envTF22/lib/python3.7/site-packages/tensorflow/python/keras/saving/saving_utils.py\u001b[0m in \u001b[0;36m_deserialize_nested_config\u001b[0;34m(deserialize_fn, config)\u001b[0m\n\u001b[1;32m    253\u001b[0m     \u001b[0;32mreturn\u001b[0m \u001b[0;32mNone\u001b[0m\u001b[0;34m\u001b[0m\u001b[0;34m\u001b[0m\u001b[0m\n\u001b[1;32m    254\u001b[0m   \u001b[0;32mif\u001b[0m \u001b[0m_is_single_object\u001b[0m\u001b[0;34m(\u001b[0m\u001b[0mconfig\u001b[0m\u001b[0;34m)\u001b[0m\u001b[0;34m:\u001b[0m\u001b[0;34m\u001b[0m\u001b[0;34m\u001b[0m\u001b[0m\n\u001b[0;32m--> 255\u001b[0;31m     \u001b[0;32mreturn\u001b[0m \u001b[0mdeserialize_fn\u001b[0m\u001b[0;34m(\u001b[0m\u001b[0mconfig\u001b[0m\u001b[0;34m)\u001b[0m\u001b[0;34m\u001b[0m\u001b[0;34m\u001b[0m\u001b[0m\n\u001b[0m\u001b[1;32m    256\u001b[0m   \u001b[0;32melif\u001b[0m \u001b[0misinstance\u001b[0m\u001b[0;34m(\u001b[0m\u001b[0mconfig\u001b[0m\u001b[0;34m,\u001b[0m \u001b[0mdict\u001b[0m\u001b[0;34m)\u001b[0m\u001b[0;34m:\u001b[0m\u001b[0;34m\u001b[0m\u001b[0;34m\u001b[0m\u001b[0m\n\u001b[1;32m    257\u001b[0m     return {\n",
      "\u001b[0;32m~/anaconda3/envs/envTF22/lib/python3.7/site-packages/tensorflow/python/keras/losses.py\u001b[0m in \u001b[0;36mdeserialize\u001b[0;34m(name, custom_objects)\u001b[0m\n\u001b[1;32m   1833\u001b[0m       \u001b[0mmodule_objects\u001b[0m\u001b[0;34m=\u001b[0m\u001b[0mglobals\u001b[0m\u001b[0;34m(\u001b[0m\u001b[0;34m)\u001b[0m\u001b[0;34m,\u001b[0m\u001b[0;34m\u001b[0m\u001b[0;34m\u001b[0m\u001b[0m\n\u001b[1;32m   1834\u001b[0m       \u001b[0mcustom_objects\u001b[0m\u001b[0;34m=\u001b[0m\u001b[0mcustom_objects\u001b[0m\u001b[0;34m,\u001b[0m\u001b[0;34m\u001b[0m\u001b[0;34m\u001b[0m\u001b[0m\n\u001b[0;32m-> 1835\u001b[0;31m       printable_module_name='loss function')\n\u001b[0m\u001b[1;32m   1836\u001b[0m \u001b[0;34m\u001b[0m\u001b[0m\n\u001b[1;32m   1837\u001b[0m \u001b[0;34m\u001b[0m\u001b[0m\n",
      "\u001b[0;32m~/anaconda3/envs/envTF22/lib/python3.7/site-packages/tensorflow/python/keras/utils/generic_utils.py\u001b[0m in \u001b[0;36mdeserialize_keras_object\u001b[0;34m(identifier, module_objects, custom_objects, printable_module_name)\u001b[0m\n\u001b[1;32m    390\u001b[0m       \u001b[0mobj\u001b[0m \u001b[0;34m=\u001b[0m \u001b[0mmodule_objects\u001b[0m\u001b[0;34m.\u001b[0m\u001b[0mget\u001b[0m\u001b[0;34m(\u001b[0m\u001b[0mobject_name\u001b[0m\u001b[0;34m)\u001b[0m\u001b[0;34m\u001b[0m\u001b[0;34m\u001b[0m\u001b[0m\n\u001b[1;32m    391\u001b[0m       \u001b[0;32mif\u001b[0m \u001b[0mobj\u001b[0m \u001b[0;32mis\u001b[0m \u001b[0;32mNone\u001b[0m\u001b[0;34m:\u001b[0m\u001b[0;34m\u001b[0m\u001b[0;34m\u001b[0m\u001b[0m\n\u001b[0;32m--> 392\u001b[0;31m         \u001b[0;32mraise\u001b[0m \u001b[0mValueError\u001b[0m\u001b[0;34m(\u001b[0m\u001b[0;34m'Unknown '\u001b[0m \u001b[0;34m+\u001b[0m \u001b[0mprintable_module_name\u001b[0m \u001b[0;34m+\u001b[0m \u001b[0;34m':'\u001b[0m \u001b[0;34m+\u001b[0m \u001b[0mobject_name\u001b[0m\u001b[0;34m)\u001b[0m\u001b[0;34m\u001b[0m\u001b[0;34m\u001b[0m\u001b[0m\n\u001b[0m\u001b[1;32m    393\u001b[0m     \u001b[0;31m# Classes passed by name are instantiated with no args, functions are\u001b[0m\u001b[0;34m\u001b[0m\u001b[0;34m\u001b[0m\u001b[0;34m\u001b[0m\u001b[0m\n\u001b[1;32m    394\u001b[0m     \u001b[0;31m# returned as-is.\u001b[0m\u001b[0;34m\u001b[0m\u001b[0;34m\u001b[0m\u001b[0;34m\u001b[0m\u001b[0m\n",
      "\u001b[0;31mValueError\u001b[0m: Unknown loss function:my_loss"
     ]
    }
   ],
   "source": [
    "model=tf.keras.models.load_model(\"model/model_adam_3e5\")\n",
    "\n"
   ]
  },
  {
   "cell_type": "code",
   "execution_count": 39,
   "metadata": {},
   "outputs": [],
   "source": [
    "model.save_weights('model/model_adam_3e5_wt/model_adam_3e5')"
   ]
  },
  {
   "cell_type": "code",
   "execution_count": 50,
   "metadata": {},
   "outputs": [],
   "source": [
    "load_status = model.load_weights(\"model/model_adam_3e5_wt/model_adam_3e5\")"
   ]
  },
  {
   "cell_type": "code",
   "execution_count": 48,
   "metadata": {},
   "outputs": [],
   "source": [
    "p = tf.constant([0.7])\n",
    "r = tf.random.uniform(shape=(1,127,78,80), maxval=1)\n",
    "b = tf.math.greater(p, r)\n",
    "test_data3 = tf.cast(b, dtype=tf.float32)\n",
    "\n",
    "p = tf.constant([0.7])\n",
    "r = tf.random.uniform(shape=(1,127,78,2), maxval=1)\n",
    "b = tf.math.greater(p, r)\n",
    "test_data4 = tf.cast(b, dtype=tf.float32)\n"
   ]
  },
  {
   "cell_type": "code",
   "execution_count": 51,
   "metadata": {
    "scrolled": true
   },
   "outputs": [
    {
     "data": {
      "text/plain": [
       "array([[[0.9999969 , 0.999554  ],\n",
       "        [0.99999917, 0.9999236 ],\n",
       "        [0.9999962 , 0.99991536],\n",
       "        [0.9960603 , 0.99979776],\n",
       "        [0.9999871 , 0.99988556],\n",
       "        [0.9988757 , 0.999962  ],\n",
       "        [0.99994206, 0.9997838 ],\n",
       "        [0.9980246 , 0.99979335],\n",
       "        [0.9970086 , 0.9996977 ],\n",
       "        [0.99999976, 0.9999151 ],\n",
       "        [0.9999621 , 0.9937192 ],\n",
       "        [0.98498386, 0.9788271 ],\n",
       "        [0.99999976, 0.99959475],\n",
       "        [0.28327635, 0.03772808],\n",
       "        [0.9996704 , 0.9981192 ],\n",
       "        [0.98224556, 0.999483  ],\n",
       "        [0.9999658 , 0.9999943 ],\n",
       "        [0.99996114, 0.99991655],\n",
       "        [0.89228654, 0.9581778 ],\n",
       "        [0.99880886, 0.9964418 ],\n",
       "        [0.9995591 , 0.9986577 ],\n",
       "        [0.9999927 , 0.9996051 ],\n",
       "        [0.9972894 , 0.88581795],\n",
       "        [0.9997012 , 0.9992974 ],\n",
       "        [0.9999989 , 0.99973005],\n",
       "        [0.9757715 , 0.9984345 ],\n",
       "        [0.9966445 , 0.9971347 ],\n",
       "        [0.9596553 , 0.09248953],\n",
       "        [0.9999974 , 0.8396393 ],\n",
       "        [0.99947375, 0.99649435],\n",
       "        [0.9995158 , 0.9991999 ],\n",
       "        [0.9998029 , 0.9997565 ],\n",
       "        [0.99981135, 0.9993381 ],\n",
       "        [0.9995639 , 0.7655221 ],\n",
       "        [0.39597327, 0.35273862],\n",
       "        [0.9953837 , 0.90136456],\n",
       "        [0.99998903, 0.99083203],\n",
       "        [0.9994229 , 0.99911064],\n",
       "        [0.94616956, 0.9901563 ],\n",
       "        [0.9889579 , 0.989597  ],\n",
       "        [0.9999386 , 0.98116606],\n",
       "        [0.9572661 , 0.97992104],\n",
       "        [0.99193186, 0.939483  ],\n",
       "        [0.9988991 , 0.99802136],\n",
       "        [0.9975561 , 0.6210183 ],\n",
       "        [0.9991892 , 0.89350176],\n",
       "        [0.9948244 , 0.96375686],\n",
       "        [0.9954621 , 0.6791995 ],\n",
       "        [0.9942866 , 0.78236437],\n",
       "        [0.9850802 , 0.99319834],\n",
       "        [0.9646711 , 0.5148427 ],\n",
       "        [0.90091026, 0.9165861 ],\n",
       "        [0.99832755, 0.96365756],\n",
       "        [0.89277834, 0.8249727 ],\n",
       "        [0.9885244 , 0.5485435 ],\n",
       "        [0.9539    , 0.3981802 ],\n",
       "        [0.9949065 , 0.14547707],\n",
       "        [0.99993694, 0.9745603 ],\n",
       "        [0.99613625, 0.9997316 ],\n",
       "        [0.8868683 , 0.9990338 ],\n",
       "        [0.9958118 , 0.9464343 ],\n",
       "        [0.4181323 , 0.21604691],\n",
       "        [0.96779054, 0.72598785],\n",
       "        [0.9999317 , 0.9982034 ],\n",
       "        [0.9992662 , 0.98951614],\n",
       "        [0.9434104 , 0.6482251 ],\n",
       "        [0.9996779 , 0.9987595 ],\n",
       "        [0.99027574, 0.98723376],\n",
       "        [0.9349773 , 0.99861145],\n",
       "        [0.9998416 , 0.9996519 ],\n",
       "        [0.99941075, 0.9994481 ],\n",
       "        [0.9998795 , 0.9998629 ],\n",
       "        [0.9973361 , 0.997431  ],\n",
       "        [0.99729353, 0.996276  ],\n",
       "        [0.9951148 , 0.9806983 ],\n",
       "        [0.99992275, 0.9999124 ],\n",
       "        [0.99604934, 0.9968046 ],\n",
       "        [0.99993503, 0.99992144]]], dtype=float32)"
      ]
     },
     "execution_count": 51,
     "metadata": {},
     "output_type": "execute_result"
    }
   ],
   "source": [
    "test_out=model.predict([test_data3,test_data4])\n",
    "test_out"
   ]
  },
  {
   "cell_type": "code",
   "execution_count": 52,
   "metadata": {},
   "outputs": [],
   "source": [
    "test_dt=build_single_input(training_data)\n",
    "test_dt = [np.asarray(test_dt[0][:-1]).reshape(1, 127, 78, 80), \\\n",
    "                  np.asarray(test_dt[1][:-1]).reshape(1, 127, 78, 2)]\n",
    "test_pred = model.predict(test_dt)"
   ]
  },
  {
   "cell_type": "code",
   "execution_count": 53,
   "metadata": {},
   "outputs": [
    {
     "data": {
      "text/plain": [
       "array([[[2.31379119e-04, 5.34797509e-05],\n",
       "        [8.12519924e-04, 4.29042957e-05],\n",
       "        [3.93849361e-04, 4.70474515e-05],\n",
       "        [3.69199057e-04, 1.19843105e-04],\n",
       "        [1.94216482e-04, 4.42676865e-05],\n",
       "        [9.02631902e-04, 2.31614176e-04],\n",
       "        [1.67449849e-04, 8.45202303e-05],\n",
       "        [2.36275885e-03, 4.70423547e-04],\n",
       "        [9.54611693e-04, 7.18006777e-05],\n",
       "        [2.71783373e-03, 4.88245787e-05],\n",
       "        [3.80599638e-03, 2.23870986e-04],\n",
       "        [2.85926531e-03, 1.37052033e-04],\n",
       "        [1.14651490e-02, 5.03182819e-04],\n",
       "        [1.54680456e-03, 6.64710766e-04],\n",
       "        [1.05249584e-02, 3.83364881e-04],\n",
       "        [2.67630536e-03, 3.47686844e-04],\n",
       "        [1.78490439e-03, 4.23549092e-04],\n",
       "        [1.18279364e-02, 1.15591788e-03],\n",
       "        [3.67357838e-03, 9.25846514e-04],\n",
       "        [8.57416913e-03, 4.39623371e-03],\n",
       "        [1.61695909e-02, 1.45369244e-03],\n",
       "        [2.87704146e-03, 7.96780456e-04],\n",
       "        [1.03692524e-02, 2.39031482e-03],\n",
       "        [3.50671448e-03, 5.66066883e-04],\n",
       "        [2.43255813e-02, 2.69798865e-03],\n",
       "        [3.00044306e-02, 1.74074341e-03],\n",
       "        [2.29806509e-02, 6.08799281e-03],\n",
       "        [5.12249907e-03, 1.39286474e-03],\n",
       "        [2.54779719e-02, 3.23694479e-03],\n",
       "        [1.91334821e-02, 4.18522395e-03],\n",
       "        [3.02817896e-02, 5.52294124e-03],\n",
       "        [5.93690947e-02, 7.55086727e-03],\n",
       "        [9.58952308e-03, 3.99816269e-03],\n",
       "        [1.89184733e-02, 3.59794195e-03],\n",
       "        [1.96173191e-02, 6.75869547e-03],\n",
       "        [2.46182233e-02, 9.41401254e-03],\n",
       "        [1.22204274e-01, 1.08461557e-02],\n",
       "        [1.63456555e-02, 3.27125005e-03],\n",
       "        [2.97997240e-02, 2.32441556e-02],\n",
       "        [1.47632100e-02, 1.40360545e-03],\n",
       "        [4.73046228e-02, 1.11381356e-02],\n",
       "        [5.97093925e-02, 2.29003150e-02],\n",
       "        [2.09648609e-02, 9.30008758e-03],\n",
       "        [2.26718597e-02, 2.62919581e-03],\n",
       "        [2.13688016e-02, 1.15404092e-02],\n",
       "        [4.03758548e-02, 6.79372437e-03],\n",
       "        [3.05942725e-02, 1.57005023e-02],\n",
       "        [4.62642983e-02, 9.65282880e-03],\n",
       "        [2.25173961e-02, 9.33428109e-03],\n",
       "        [2.75623761e-02, 1.28030069e-02],\n",
       "        [6.96570426e-02, 2.70397700e-02],\n",
       "        [3.42259509e-03, 1.40634691e-03],\n",
       "        [3.51795480e-02, 1.06884819e-02],\n",
       "        [1.91262718e-02, 1.45669300e-02],\n",
       "        [2.12639011e-02, 3.53408558e-03],\n",
       "        [4.75205295e-03, 2.00420409e-03],\n",
       "        [5.91276726e-03, 1.79905130e-03],\n",
       "        [2.96557620e-02, 9.84218158e-03],\n",
       "        [3.25191021e-03, 2.40113796e-03],\n",
       "        [2.26669339e-03, 2.56252661e-03],\n",
       "        [1.20499292e-02, 2.15178658e-03],\n",
       "        [1.91882649e-03, 1.61443639e-03],\n",
       "        [2.49704369e-03, 1.77299057e-03],\n",
       "        [2.29306126e-04, 8.59042630e-05],\n",
       "        [1.77091337e-03, 6.28911366e-04],\n",
       "        [5.95430261e-04, 3.34210403e-04],\n",
       "        [6.51771494e-04, 4.61202319e-04],\n",
       "        [2.03064410e-03, 1.07569247e-03],\n",
       "        [3.72987794e-04, 1.61638556e-04],\n",
       "        [7.42354663e-04, 1.67544233e-04],\n",
       "        [9.88829706e-05, 9.42354527e-05],\n",
       "        [1.22745027e-04, 1.54692694e-04],\n",
       "        [1.24427854e-04, 1.29987689e-04],\n",
       "        [8.73289464e-05, 9.29194503e-05],\n",
       "        [3.12327174e-04, 1.49148182e-04],\n",
       "        [4.56566268e-05, 4.27614941e-05],\n",
       "        [8.72844903e-05, 1.19440730e-04],\n",
       "        [4.93750158e-05, 5.59529653e-05]]], dtype=float32)"
      ]
     },
     "execution_count": 53,
     "metadata": {},
     "output_type": "execute_result"
    }
   ],
   "source": [
    "test_pred"
   ]
  },
  {
   "cell_type": "code",
   "execution_count": null,
   "metadata": {},
   "outputs": [],
   "source": []
  },
  {
   "cell_type": "markdown",
   "metadata": {},
   "source": [
    "* Tensorboard"
   ]
  },
  {
   "cell_type": "code",
   "execution_count": null,
   "metadata": {},
   "outputs": [],
   "source": []
  },
  {
   "cell_type": "markdown",
   "metadata": {},
   "source": [
    "### Step 5: Difference in outcome"
   ]
  },
  {
   "cell_type": "code",
   "execution_count": null,
   "metadata": {},
   "outputs": [],
   "source": []
  },
  {
   "cell_type": "markdown",
   "metadata": {},
   "source": [
    "### Step 6: Compare between the models (Discussion: The advantage of biaxial LSTM)"
   ]
  },
  {
   "cell_type": "markdown",
   "metadata": {},
   "source": [
    "Time-axis Model"
   ]
  },
  {
   "cell_type": "code",
   "execution_count": 34,
   "metadata": {},
   "outputs": [],
   "source": [
    "t_inputs = tf.keras.Input(shape=(128,78,80))\n",
    "\n",
    "t_inputs_rotate= tf.keras.backend.permute_dimensions(t_inputs,(0,2,1,3)) #(78,128,80)\n",
    "\n",
    "t_time_lstm1 = tf.keras.layers.LSTM(300,return_sequences=True)\n",
    "t_time_lstm2 = tf.keras.layers.LSTM(300,return_sequences=True)\n",
    "\n",
    "t_inter1 = tf.keras.layers.TimeDistributed(t_time_lstm1)(t_inputs_rotate) #(78,128,80)\n",
    "t_inter2 = tf.keras.layers.TimeDistributed(t_time_lstm2)(t_inter1) #(78,128,80)\n",
    "\n",
    "t_inter2_rotate= tf.keras.backend.permute_dimensions(t_inter2,(0,2,1,3)) #(128,78,80)\n",
    "t_outputs = tf.keras.layers.Dense(2,activation='sigmoid')(t_inter2_rotate) #(128,78,2)\n",
    "\n",
    "time_model=tf.keras.Model(inputs=t_inputs,outputs=t_outputs)"
   ]
  },
  {
   "cell_type": "code",
   "execution_count": 35,
   "metadata": {},
   "outputs": [
    {
     "name": "stdout",
     "output_type": "stream",
     "text": [
      "Model: \"model_3\"\n",
      "_________________________________________________________________\n",
      "Layer (type)                 Output Shape              Param #   \n",
      "=================================================================\n",
      "input_5 (InputLayer)         [(None, 128, 78, 80)]     0         \n",
      "_________________________________________________________________\n",
      "tf_op_layer_Transpose_5 (Ten [(None, 78, 128, 80)]     0         \n",
      "_________________________________________________________________\n",
      "time_distributed_9 (TimeDist (None, 78, 128, 300)      457200    \n",
      "_________________________________________________________________\n",
      "time_distributed_10 (TimeDis (None, 78, 128, 300)      721200    \n",
      "_________________________________________________________________\n",
      "tf_op_layer_Transpose_6 (Ten [(None, 128, 78, 300)]    0         \n",
      "_________________________________________________________________\n",
      "dense_3 (Dense)              (None, 128, 78, 2)        602       \n",
      "=================================================================\n",
      "Total params: 1,179,002\n",
      "Trainable params: 1,179,002\n",
      "Non-trainable params: 0\n",
      "_________________________________________________________________\n"
     ]
    }
   ],
   "source": [
    "time_model.summary()"
   ]
  },
  {
   "cell_type": "code",
   "execution_count": 36,
   "metadata": {},
   "outputs": [],
   "source": [
    "time_model.compile(optimizer=tf.keras.optimizers.Adam(),loss=my_loss)"
   ]
  },
  {
   "cell_type": "code",
   "execution_count": 37,
   "metadata": {},
   "outputs": [
    {
     "name": "stdout",
     "output_type": "stream",
     "text": [
      "Epoch 1/10\n",
      "20/20 [==============================] - 33s 2s/step - loss: 0.1755\n",
      "Epoch 2/10\n",
      "20/20 [==============================] - 36s 2s/step - loss: 0.1216\n",
      "Epoch 3/10\n",
      "20/20 [==============================] - 33s 2s/step - loss: 0.1123\n",
      "Epoch 4/10\n",
      "20/20 [==============================] - 34s 2s/step - loss: 0.1003\n",
      "Epoch 5/10\n",
      "20/20 [==============================] - 36s 2s/step - loss: 0.0860\n",
      "Epoch 6/10\n",
      "20/20 [==============================] - 33s 2s/step - loss: 0.0690\n",
      "Epoch 7/10\n",
      "20/20 [==============================] - 34s 2s/step - loss: 0.0459\n",
      "Epoch 8/10\n",
      "20/20 [==============================] - 37s 2s/step - loss: 0.0285\n",
      "Epoch 9/10\n",
      "20/20 [==============================] - 32s 2s/step - loss: 0.0143\n",
      "Epoch 10/10\n",
      "20/20 [==============================] - 32s 2s/step - loss: 0.0102\n"
     ]
    },
    {
     "data": {
      "text/plain": [
       "<tensorflow.python.keras.callbacks.History at 0x7f7ca4673850>"
      ]
     },
     "execution_count": 37,
     "metadata": {},
     "output_type": "execute_result"
    }
   ],
   "source": [
    "data_gen=input_batch_generator(training_data)\n",
    "time_model.fit_generator(data_gen,epochs=10,steps_per_epoch=20)"
   ]
  },
  {
   "cell_type": "markdown",
   "metadata": {},
   "source": [
    "Note_axis Model"
   ]
  },
  {
   "cell_type": "code",
   "execution_count": 46,
   "metadata": {},
   "outputs": [],
   "source": [
    "n_inputs = tf.keras.Input(shape=(128,78,80))\n",
    "\n",
    "n_note_lstm1 = tf.keras.layers.LSTM(100,return_sequences=True)\n",
    "n_note_lstm2 = tf.keras.layers.LSTM(50,return_sequences=True)\n",
    "\n",
    "n_inter3 = tf.keras.layers.TimeDistributed(n_note_lstm1)(n_inputs)\n",
    "n_inter4 = tf.keras.layers.TimeDistributed(n_note_lstm2)(n_inter3)\n",
    "\n",
    "n_outputs = tf.keras.layers.Dense(2,activation='sigmoid')(n_inter4)\n",
    "\n",
    "note_model=tf.keras.Model(inputs=n_inputs,outputs=n_outputs)"
   ]
  },
  {
   "cell_type": "code",
   "execution_count": 47,
   "metadata": {},
   "outputs": [
    {
     "name": "stdout",
     "output_type": "stream",
     "text": [
      "Model: \"model_5\"\n",
      "_________________________________________________________________\n",
      "Layer (type)                 Output Shape              Param #   \n",
      "=================================================================\n",
      "input_7 (InputLayer)         [(None, 128, 78, 80)]     0         \n",
      "_________________________________________________________________\n",
      "time_distributed_13 (TimeDis (None, 128, 78, 100)      72400     \n",
      "_________________________________________________________________\n",
      "time_distributed_14 (TimeDis (None, 128, 78, 50)       30200     \n",
      "_________________________________________________________________\n",
      "dense_5 (Dense)              (None, 128, 78, 2)        102       \n",
      "=================================================================\n",
      "Total params: 102,702\n",
      "Trainable params: 102,702\n",
      "Non-trainable params: 0\n",
      "_________________________________________________________________\n"
     ]
    }
   ],
   "source": [
    "note_model.summary()"
   ]
  },
  {
   "cell_type": "code",
   "execution_count": 48,
   "metadata": {},
   "outputs": [],
   "source": [
    "note_model.compile(optimizer=tf.keras.optimizers.Adam(),loss=my_loss)"
   ]
  },
  {
   "cell_type": "code",
   "execution_count": 49,
   "metadata": {},
   "outputs": [
    {
     "name": "stdout",
     "output_type": "stream",
     "text": [
      "Epoch 1/10\n",
      "20/20 [==============================] - 30s 1s/step - loss: 0.2871\n",
      "Epoch 2/10\n",
      "20/20 [==============================] - 32s 2s/step - loss: 0.1456\n",
      "Epoch 3/10\n",
      "20/20 [==============================] - 28s 1s/step - loss: 0.1362\n",
      "Epoch 4/10\n",
      "20/20 [==============================] - 28s 1s/step - loss: 0.1295\n",
      "Epoch 5/10\n",
      "20/20 [==============================] - 30s 2s/step - loss: 0.1245\n",
      "Epoch 6/10\n",
      "20/20 [==============================] - 27s 1s/step - loss: 0.1153\n",
      "Epoch 7/10\n",
      "20/20 [==============================] - 27s 1s/step - loss: 0.1068\n",
      "Epoch 8/10\n",
      "20/20 [==============================] - 30s 1s/step - loss: 0.0898\n",
      "Epoch 9/10\n",
      "20/20 [==============================] - 28s 1s/step - loss: 0.0743\n",
      "Epoch 10/10\n",
      "20/20 [==============================] - 27s 1s/step - loss: 0.0594\n"
     ]
    },
    {
     "data": {
      "text/plain": [
       "<tensorflow.python.keras.callbacks.History at 0x7f7ca50d6fd0>"
      ]
     },
     "execution_count": 49,
     "metadata": {},
     "output_type": "execute_result"
    }
   ],
   "source": [
    "data_gen=input_batch_generator(training_data)\n",
    "note_model.fit_generator(data_gen,epochs=10,steps_per_epoch=20)"
   ]
  },
  {
   "cell_type": "markdown",
   "metadata": {},
   "source": [
    "### Step 7: Improvement"
   ]
  },
  {
   "cell_type": "code",
   "execution_count": null,
   "metadata": {},
   "outputs": [],
   "source": []
  },
  {
   "cell_type": "markdown",
   "metadata": {},
   "source": [
    "### Step 8: Unsolved problems and Drawbacks"
   ]
  },
  {
   "cell_type": "markdown",
   "metadata": {},
   "source": [
    "1. The model doesn't include factors like velocity and tempo, which makes the generated music somewhat plain and lacking in style.\n",
    "2. The model requires a lot of hand-picked arguments based on empirical knowledge about music.\n",
    "3. The model only deals with single instrument. If we simply run the model on different instruments and then combine each track together, this sure won't give us a good melody. How to make these intruments sound good together could be an interesting task."
   ]
  }
 ],
 "metadata": {
  "kernelspec": {
   "display_name": "Python 3",
   "language": "python",
   "name": "python3"
  },
  "language_info": {
   "codemirror_mode": {
    "name": "ipython",
    "version": 3
   },
   "file_extension": ".py",
   "mimetype": "text/x-python",
   "name": "python",
   "nbconvert_exporter": "python",
   "pygments_lexer": "ipython3",
   "version": "3.7.7"
  }
 },
 "nbformat": 4,
 "nbformat_minor": 4
}
