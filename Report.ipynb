{
 "cells": [
  {
   "cell_type": "markdown",
   "metadata": {},
   "source": [
    "# ECBM 4040 FINAL PROJECT"
   ]
  },
  {
   "cell_type": "markdown",
   "metadata": {},
   "source": [
    "### Step 1: Extract the midi data from zip file.\n",
    "\n",
    "* the data we use in this project comes from [Classical Piano Midi Page](http://www.piano-midi.de/) \n",
    "* all of them are midi file containing two tracks of piano for left hand and right hand\n"
   ]
  },
  {
   "cell_type": "code",
   "execution_count": 2,
   "metadata": {},
   "outputs": [],
   "source": [
    "## you don't have to run this block\n",
    "\n",
    "# import zipfile\n",
    "# with zipfile.ZipFile('data/midi.zip', 'r') as zip_ref:\n",
    "#     zip_ref.extractall('data/')"
   ]
  },
  {
   "cell_type": "markdown",
   "metadata": {},
   "source": [
    "### Step 2: Prepare your data for training"
   ]
  },
  {
   "cell_type": "markdown",
   "metadata": {},
   "source": [
    "#### A little insight about the input data structure\n",
    "The input data proposed by the original paper is a little bit complex and requires some knowledge about music. \\\n",
    "We spend quite a lot time trying to figure out the whole logic behind this and provide the following glossary table for your information.\\\n",
    "And for consistency, we will stick to the name convention stated in the original paper.\n",
    "\n",
    "* stateMatrix: matrix of state, for state definition see below\n",
    "* note: 0-77 lower_bound=24; upper_bound=102 \n",
    "* part_position(1) = note\n",
    "* pitchclass = 1 of 12 half steps CDEFGAB b#\n",
    "* part_pitchclass(12): one-hot pitchclass \n",
    "* state: (1,0) (1,1) (0,0) -> denoting holding or repeating a note\n",
    "* context: the count of each pitchclass played in last timestep \n",
    "* part_context(12): rearranged context\n",
    "* part_prev_vicinity(50):\n",
    "\n",
    "#### Note:\n",
    "* input for model: part_position + part_pitchclass + part_prev_vicinity + part_context + beat + [0] \n",
    "* total number of arguments: 1 + 12 + 50 + 12 + 4 + 1 = 80\n",
    "* for each of the 78 note you have 80 arguments in above structure\n",
    "* and we only use sequences of 128 timesteps for training\n",
    "* so the input data form will be 128 X 78 X 80\n",
    "\n",
    "Please refer to prep.py for the details of implementation."
   ]
  },
  {
   "cell_type": "code",
   "execution_count": null,
   "metadata": {},
   "outputs": [],
   "source": []
  },
  {
   "cell_type": "markdown",
   "metadata": {},
   "source": [
    "### Step 3: Train the theano-based model"
   ]
  },
  {
   "cell_type": "code",
   "execution_count": null,
   "metadata": {},
   "outputs": [],
   "source": []
  },
  {
   "cell_type": "markdown",
   "metadata": {},
   "source": [
    "### Step 4: Train our model"
   ]
  },
  {
   "cell_type": "code",
   "execution_count": null,
   "metadata": {},
   "outputs": [],
   "source": []
  },
  {
   "cell_type": "markdown",
   "metadata": {},
   "source": [
    "### Step 5: Compare between the two model"
   ]
  },
  {
   "cell_type": "code",
   "execution_count": null,
   "metadata": {},
   "outputs": [],
   "source": []
  },
  {
   "cell_type": "markdown",
   "metadata": {},
   "source": [
    "### Step 6: Improvement"
   ]
  },
  {
   "cell_type": "code",
   "execution_count": null,
   "metadata": {},
   "outputs": [],
   "source": []
  }
 ],
 "metadata": {
  "kernelspec": {
   "display_name": "Python 3",
   "language": "python",
   "name": "python3"
  },
  "language_info": {
   "codemirror_mode": {
    "name": "ipython",
    "version": 3
   },
   "file_extension": ".py",
   "mimetype": "text/x-python",
   "name": "python",
   "nbconvert_exporter": "python",
   "pygments_lexer": "ipython3",
   "version": "3.7.7"
  }
 },
 "nbformat": 4,
 "nbformat_minor": 4
}
