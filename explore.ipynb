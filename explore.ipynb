{
 "cells": [
  {
   "cell_type": "code",
   "execution_count": 1,
   "metadata": {},
   "outputs": [],
   "source": [
    "from prep import *\n",
    "from Original.ori_prep import *\n",
    "from Original.ori_data import *"
   ]
  },
  {
   "cell_type": "code",
   "execution_count": 2,
   "metadata": {},
   "outputs": [],
   "source": [
    "import midi \n",
    "import numpy as np"
   ]
  },
  {
   "cell_type": "code",
   "execution_count": 3,
   "metadata": {},
   "outputs": [],
   "source": [
    "x=midi.read_midifile('data/music/alb_esp5.mid')"
   ]
  },
  {
   "cell_type": "code",
   "execution_count": 3,
   "metadata": {},
   "outputs": [
    {
     "name": "stdout",
     "output_type": "stream",
     "text": [
      "load liz_et2\n",
      "load scn16_3\n",
      "load haydn_43_1\n",
      "load mendel_op30_3\n",
      "load beethoven_les_adieux_1\n",
      "load br_rhap\n",
      "load grieg_zwerge\n",
      "load haydn_7_1\n",
      "load muss_8\n",
      "load schu_143_2\n",
      "load muss_4\n",
      "load scn68_12\n",
      "load clementi_opus36_1_1\n",
      "load waldstein_3\n",
      "load liz_et_trans5\n",
      "load ty_maerz\n",
      "load ty_juli\n",
      "load rac_op3_2\n",
      "load chpn-p3\n",
      "load gra_esp_4\n",
      "load scn15_5\n",
      "load beethoven_opus10_2\n",
      "load grieg_wedding\n",
      "load mz_330_1\n",
      "load haydn_35_2\n",
      "load chpn_op27_1\n",
      "load schubert_D935_3\n",
      "load mendel_op19_4\n",
      "load schub_d960_1\n",
      "load haydn_9_1\n",
      "load mz_545_1\n",
      "load rac_op33_6\n",
      "load liz_rhap15\n",
      "load alb_esp2\n",
      "load grieg_berceuse\n",
      "load rac_op23_2\n",
      "load bach_850\n",
      "load beethoven_opus22_1\n",
      "load burg_quelle\n",
      "load debussy_cc_4\n",
      "load schubert_D850_4\n",
      "load chpn-p4\n",
      "load mendel_op30_1\n",
      "load pathetique_3\n",
      "load clementi_opus36_6_1\n",
      "load mendel_op62_3\n",
      "load schu_143_1\n",
      "load chpn_op25_e11\n",
      "load scn15_4\n",
      "load schub_d960_4\n",
      "load mz_570_3\n",
      "load clementi_opus36_5_1\n",
      "load scn15_13\n",
      "load grieg_waechter\n",
      "load chpn-p8\n",
      "load brahms_opus1_2\n",
      "load rac_op32_1\n",
      "load liz_et_trans4\n",
      "load haydn_8_1\n",
      "load schuim-1\n",
      "load scn15_11\n",
      "load chpn_op10_e01\n",
      "load scn15_7\n",
      "load burg_agitato\n",
      "load DEB_PASS\n",
      "load chpn_op35_3\n",
      "load beethoven_opus90_2\n",
      "load beethoven_opus10_3\n",
      "load mendel_op53_5\n",
      "load chpn_op25_e2\n",
      "load clementi_opus36_5_3\n",
      "load mz_311_2\n",
      "load schumm-3\n",
      "load debussy_cc_2\n",
      "load scn68_10\n",
      "load haydn_35_1\n",
      "load rac_op32_13\n",
      "load schub_d760_1\n",
      "load deb_prel\n",
      "load beethoven_les_adieux_2\n",
      "load chpn_op35_4\n",
      "load chpn-p20\n",
      "load chpn_op25_e1\n",
      "load debussy_cc_1\n",
      "load rac_op23_7\n",
      "load brahms_opus1_1\n",
      "load clementi_opus36_4_2\n",
      "load bor_ps1\n",
      "load scn15_1\n",
      "load bor_ps5\n",
      "load grieg_halling\n",
      "load god_alb_esp2\n",
      "load liz_et4\n",
      "load schubert_D935_1\n",
      "load pathetique_1\n",
      "load clementi_opus36_2_1\n",
      "load mendel_op19_1\n",
      "load mendel_op30_5\n",
      "load grieg_butterfly\n",
      "load clementi_opus36_4_3\n",
      "load chpn-p9\n",
      "load beethoven_hammerklavier_1\n",
      "load ty_november\n",
      "load schub_d760_4\n",
      "load appass_3\n",
      "load burg_trennung\n",
      "load mz_333_1\n",
      "load chpn-p23\n",
      "load bach_846\n",
      "load hay_40_2\n",
      "load ty_oktober\n",
      "load schumm-5\n",
      "load grieg_kobold\n",
      "load mond_1\n",
      "load ty_september\n",
      "load schubert_D850_1\n",
      "load appass_2\n",
      "load chpn-p15\n",
      "load mz_331_3\n",
      "load schumm-4\n",
      "load alb_esp5\n",
      "load mz_570_2\n",
      "load clementi_opus36_3_2\n",
      "load chpn_op10_e05\n",
      "load chpn_op25_e4\n",
      "load mz_545_3\n",
      "load scn16_7\n",
      "load mz_311_1\n",
      "load waldstein_1\n",
      "load mz_333_3\n",
      "load debussy_cc_6\n",
      "load scn15_3\n",
      "load liz_rhap12\n",
      "load grieg_once_upon_a_time\n",
      "load bach_847\n",
      "load haydn_43_3\n",
      "load clementi_opus36_3_1\n",
      "load beethoven_opus22_4\n",
      "load mond_3\n",
      "load burg_gewitter\n",
      "load burg_spinnerlied\n",
      "load fruehlingsrauschen\n",
      "load chpn_op35_1\n",
      "load scn15_10\n",
      "load haydn_8_3\n",
      "load chpn-p2\n",
      "load rac_op23_5\n",
      "load ty_juni\n",
      "load mz_330_3\n",
      "load bor_ps7\n",
      "load haydn_9_3\n",
      "load chpn_op10_e12\n",
      "load liz_rhap02\n",
      "load scn16_1\n",
      "load chpn-p1\n",
      "load scn16_4\n",
      "load liz_et5\n",
      "load burg_erwachen\n",
      "load liz_rhap09\n",
      "load ty_februar\n",
      "load rav_gib\n",
      "load chpn_op66\n",
      "load scn15_12\n",
      "load rac_op33_8\n",
      "load clementi_opus36_3_3\n",
      "load mz_332_2\n",
      "load haydn_33_1\n",
      "load chpn_op25_e12\n",
      "load bk_xmas2\n",
      "load pathetique_2\n",
      "load chpn-p16\n",
      "load scn15_8\n",
      "load chpn-p14\n"
     ]
    }
   ],
   "source": [
    "piece=load_data('data/music')"
   ]
  },
  {
   "cell_type": "markdown",
   "metadata": {},
   "source": [
    "data prep comparision"
   ]
  },
  {
   "cell_type": "code",
   "execution_count": 4,
   "metadata": {},
   "outputs": [
    {
     "ename": "NameError",
     "evalue": "name 'piece' is not defined",
     "output_type": "error",
     "traceback": [
      "\u001b[0;31m---------------------------------------------------------------------------\u001b[0m",
      "\u001b[0;31mNameError\u001b[0m                                 Traceback (most recent call last)",
      "\u001b[0;32m<ipython-input-4-eb487a0998f0>\u001b[0m in \u001b[0;36m<module>\u001b[0;34m\u001b[0m\n\u001b[0;32m----> 1\u001b[0;31m \u001b[0mnp\u001b[0m\u001b[0;34m.\u001b[0m\u001b[0masarray\u001b[0m\u001b[0;34m(\u001b[0m\u001b[0mpiece\u001b[0m\u001b[0;34m[\u001b[0m\u001b[0;34m'chpn_op10_e05'\u001b[0m\u001b[0;34m]\u001b[0m\u001b[0;34m)\u001b[0m\u001b[0;34m.\u001b[0m\u001b[0mshape\u001b[0m\u001b[0;34m\u001b[0m\u001b[0;34m\u001b[0m\u001b[0m\n\u001b[0m",
      "\u001b[0;31mNameError\u001b[0m: name 'piece' is not defined"
     ]
    }
   ],
   "source": [
    "np.asarray(piece['chpn_op10_e05']).shape"
   ]
  },
  {
   "cell_type": "code",
   "execution_count": 4,
   "metadata": {},
   "outputs": [
    {
     "data": {
      "text/plain": [
       "(681, 78, 2)"
      ]
     },
     "execution_count": 4,
     "metadata": {},
     "output_type": "execute_result"
    }
   ],
   "source": [
    "sample=midi_to_statematrix('data/music/chpn_op10_e05.mid')\n",
    "np.asarray(sample).shape"
   ]
  },
  {
   "cell_type": "code",
   "execution_count": 6,
   "metadata": {},
   "outputs": [],
   "source": [
    "new=build_input_data(sample)"
   ]
  },
  {
   "cell_type": "code",
   "execution_count": 7,
   "metadata": {},
   "outputs": [
    {
     "data": {
      "text/plain": [
       "(681, 78, 80)"
      ]
     },
     "execution_count": 7,
     "metadata": {},
     "output_type": "execute_result"
    }
   ],
   "source": [
    "np.asarray(new).shape"
   ]
  },
  {
   "cell_type": "code",
   "execution_count": 8,
   "metadata": {},
   "outputs": [],
   "source": [
    "ori=noteStateMatrixToInputForm(sample)"
   ]
  },
  {
   "cell_type": "code",
   "execution_count": 12,
   "metadata": {},
   "outputs": [
    {
     "data": {
      "text/plain": [
       "False"
      ]
     },
     "execution_count": 12,
     "metadata": {},
     "output_type": "execute_result"
    }
   ],
   "source": [
    "np.allclose(new,ori)"
   ]
  },
  {
   "cell_type": "code",
   "execution_count": 5,
   "metadata": {},
   "outputs": [],
   "source": [
    "sample1=build_single_input(piece)"
   ]
  },
  {
   "cell_type": "code",
   "execution_count": 10,
   "metadata": {},
   "outputs": [
    {
     "data": {
      "text/plain": [
       "(128, 78, 80)"
      ]
     },
     "execution_count": 10,
     "metadata": {},
     "output_type": "execute_result"
    }
   ],
   "source": [
    "np.asarray(sample1[0]).shape"
   ]
  },
  {
   "cell_type": "code",
   "execution_count": 11,
   "metadata": {},
   "outputs": [],
   "source": [
    "batch_sample=build_input_batch(piece)"
   ]
  },
  {
   "cell_type": "code",
   "execution_count": 13,
   "metadata": {},
   "outputs": [
    {
     "data": {
      "text/plain": [
       "(10, 128, 78, 2)"
      ]
     },
     "execution_count": 13,
     "metadata": {},
     "output_type": "execute_result"
    }
   ],
   "source": [
    "np.asarray(batch_sample[1]).shape"
   ]
  }
 ],
 "metadata": {
  "kernelspec": {
   "display_name": "Python 3",
   "language": "python",
   "name": "python3"
  },
  "language_info": {
   "codemirror_mode": {
    "name": "ipython",
    "version": 3
   },
   "file_extension": ".py",
   "mimetype": "text/x-python",
   "name": "python",
   "nbconvert_exporter": "python",
   "pygments_lexer": "ipython3",
   "version": "3.7.7"
  }
 },
 "nbformat": 4,
 "nbformat_minor": 4
}
