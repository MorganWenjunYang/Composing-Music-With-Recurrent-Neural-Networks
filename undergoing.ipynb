{
 "cells": [
  {
   "cell_type": "code",
   "execution_count": 1,
   "metadata": {},
   "outputs": [
    {
     "name": "stderr",
     "output_type": "stream",
     "text": [
      "WARNING (theano.tensor.blas): Using NumPy C-API based implementation for BLAS functions.\n"
     ]
    }
   ],
   "source": [
    "from Original.ori_prep import *\n",
    "from Original.ori_data import *\n",
    "from Original.ori_model import *\n",
    "from Original.ori_multi_training import *\n",
    "from Original.out_to_in_op import *"
   ]
  },
  {
   "cell_type": "code",
   "execution_count": 20,
   "metadata": {},
   "outputs": [],
   "source": [
    "import tensorflow as tf\n",
    "import midi\n",
    "import numpy as np"
   ]
  },
  {
   "cell_type": "code",
   "execution_count": 3,
   "metadata": {
    "scrolled": false
   },
   "outputs": [
    {
     "name": "stdout",
     "output_type": "stream",
     "text": [
      "Loaded liz_et2\n",
      "Loaded scn16_3\n",
      "Loaded haydn_43_1\n",
      "Loaded mendel_op30_3\n",
      "Loaded beethoven_les_adieux_1\n",
      "Loaded br_rhap\n",
      "Loaded grieg_zwerge\n",
      "Loaded haydn_7_1\n",
      "Loaded muss_8\n",
      "Loaded schu_143_2\n",
      "Loaded muss_4\n",
      "Loaded scn68_12\n",
      "Loaded clementi_opus36_1_1\n",
      "Loaded waldstein_3\n",
      "Loaded liz_et_trans5\n",
      "Loaded ty_maerz\n",
      "Loaded ty_juli\n",
      "Loaded rac_op3_2\n",
      "Loaded chpn-p3\n",
      "Loaded gra_esp_4\n",
      "Loaded scn15_5\n",
      "Loaded beethoven_opus10_2\n",
      "Loaded grieg_wedding\n",
      "Loaded mz_330_1\n",
      "Loaded haydn_35_2\n",
      "Loaded chpn_op27_1\n",
      "Loaded schubert_D935_3\n",
      "Loaded mendel_op19_4\n",
      "Loaded schub_d960_1\n",
      "Loaded haydn_9_1\n",
      "Loaded mz_545_1\n",
      "Loaded rac_op33_6\n",
      "Loaded liz_rhap15\n",
      "Loaded alb_esp2\n",
      "Loaded grieg_berceuse\n",
      "Loaded rac_op23_2\n",
      "Loaded bach_850\n",
      "Loaded beethoven_opus22_1\n",
      "Loaded burg_quelle\n",
      "Loaded debussy_cc_4\n",
      "Loaded schubert_D850_4\n",
      "Loaded chpn-p4\n",
      "Loaded mendel_op30_1\n",
      "Loaded pathetique_3\n",
      "Loaded clementi_opus36_6_1\n",
      "Loaded mendel_op62_3\n",
      "Loaded schu_143_1\n",
      "Loaded chpn_op25_e11\n",
      "Loaded scn15_4\n",
      "Loaded schub_d960_4\n",
      "Loaded mz_570_3\n",
      "Loaded clementi_opus36_5_1\n",
      "Loaded scn15_13\n",
      "Loaded grieg_waechter\n",
      "Loaded chpn-p8\n",
      "Loaded brahms_opus1_2\n",
      "Loaded rac_op32_1\n",
      "Loaded liz_et_trans4\n",
      "Loaded haydn_8_1\n",
      "Loaded schuim-1\n",
      "Loaded scn15_11\n",
      "Loaded chpn_op10_e01\n",
      "Loaded scn15_7\n",
      "Loaded burg_agitato\n",
      "Loaded DEB_PASS\n",
      "Loaded chpn_op35_3\n",
      "Loaded beethoven_opus90_2\n",
      "Loaded beethoven_opus10_3\n",
      "Loaded mendel_op53_5\n",
      "Loaded chpn_op25_e2\n",
      "Loaded clementi_opus36_5_3\n",
      "Loaded mz_311_2\n",
      "Loaded schumm-3\n",
      "Loaded debussy_cc_2\n",
      "Loaded scn68_10\n",
      "Loaded haydn_35_1\n",
      "Loaded rac_op32_13\n",
      "Loaded schub_d760_1\n",
      "Loaded deb_prel\n",
      "Loaded beethoven_les_adieux_2\n",
      "Loaded chpn_op35_4\n",
      "Loaded chpn-p20\n",
      "Loaded chpn_op25_e1\n",
      "Loaded debussy_cc_1\n",
      "Loaded rac_op23_7\n",
      "Loaded brahms_opus1_1\n",
      "Loaded clementi_opus36_4_2\n",
      "Loaded bor_ps1\n",
      "Loaded scn15_1\n",
      "Loaded bor_ps5\n",
      "Loaded grieg_halling\n",
      "Loaded god_alb_esp2\n",
      "Loaded liz_et4\n",
      "Loaded schubert_D935_1\n",
      "Loaded pathetique_1\n",
      "Loaded clementi_opus36_2_1\n",
      "Loaded mendel_op19_1\n",
      "Loaded mendel_op30_5\n",
      "Loaded grieg_butterfly\n",
      "Loaded clementi_opus36_4_3\n",
      "Loaded chpn-p9\n",
      "Loaded beethoven_hammerklavier_1\n",
      "Loaded ty_november\n",
      "Loaded schub_d760_4\n",
      "Loaded appass_3\n",
      "Loaded burg_trennung\n",
      "Loaded mz_333_1\n",
      "Loaded chpn-p23\n",
      "Loaded bach_846\n",
      "Loaded hay_40_2\n",
      "Loaded ty_oktober\n",
      "Loaded schumm-5\n",
      "Loaded grieg_kobold\n",
      "Loaded mond_1\n",
      "Loaded ty_september\n",
      "Loaded schubert_D850_1\n",
      "Loaded appass_2\n",
      "Loaded chpn-p15\n",
      "Loaded mz_331_3\n",
      "Loaded schumm-4\n",
      "Loaded alb_esp5\n",
      "Loaded mz_570_2\n",
      "Loaded clementi_opus36_3_2\n",
      "Loaded chpn_op10_e05\n",
      "Loaded chpn_op25_e4\n",
      "Loaded mz_545_3\n",
      "Loaded scn16_7\n",
      "Loaded mz_311_1\n",
      "Loaded waldstein_1\n",
      "Loaded mz_333_3\n",
      "Loaded debussy_cc_6\n",
      "Loaded scn15_3\n",
      "Loaded liz_rhap12\n",
      "Loaded grieg_once_upon_a_time\n",
      "Loaded bach_847\n",
      "Loaded haydn_43_3\n",
      "Loaded clementi_opus36_3_1\n",
      "Loaded beethoven_opus22_4\n",
      "Loaded mond_3\n",
      "Loaded burg_gewitter\n",
      "Loaded burg_spinnerlied\n",
      "Loaded fruehlingsrauschen\n",
      "Loaded chpn_op35_1\n",
      "Loaded scn15_10\n",
      "Loaded haydn_8_3\n",
      "Loaded chpn-p2\n",
      "Loaded rac_op23_5\n",
      "Loaded ty_juni\n",
      "Loaded mz_330_3\n",
      "Loaded bor_ps7\n",
      "Loaded haydn_9_3\n",
      "Loaded chpn_op10_e12\n",
      "Loaded liz_rhap02\n",
      "Loaded scn16_1\n",
      "Loaded chpn-p1\n",
      "Loaded scn16_4\n",
      "Loaded liz_et5\n",
      "Loaded burg_erwachen\n",
      "Loaded liz_rhap09\n",
      "Loaded ty_februar\n",
      "Loaded rav_gib\n",
      "Loaded chpn_op66\n",
      "Loaded scn15_12\n",
      "Loaded rac_op33_8\n",
      "Loaded clementi_opus36_3_3\n",
      "Loaded mz_332_2\n",
      "Loaded haydn_33_1\n",
      "Loaded chpn_op25_e12\n",
      "Loaded bk_xmas2\n",
      "Loaded pathetique_2\n",
      "Loaded chpn-p16\n",
      "Loaded scn15_8\n",
      "Loaded chpn-p14\n"
     ]
    }
   ],
   "source": [
    "piece=loadPieces('data/music/')"
   ]
  },
  {
   "cell_type": "code",
   "execution_count": 4,
   "metadata": {},
   "outputs": [],
   "source": [
    "sample_in,sample_out=getPieceSegment(piece)"
   ]
  },
  {
   "cell_type": "code",
   "execution_count": 36,
   "metadata": {},
   "outputs": [],
   "source": [
    "np.asarray(sample_in).shape\n",
    "sample_in=np.asarray(sample_in).reshape([128,78,80])"
   ]
  },
  {
   "cell_type": "code",
   "execution_count": 43,
   "metadata": {},
   "outputs": [],
   "source": [
    "sample_in=tf.convert_to_tensor(sample_in,dtype=tf.float64)"
   ]
  },
  {
   "cell_type": "code",
   "execution_count": 44,
   "metadata": {},
   "outputs": [
    {
     "data": {
      "text/plain": [
       "<tf.Tensor: shape=(128, 78, 80), dtype=float64, numpy=\n",
       "array([[[ 0.,  1.,  0., ..., -1., -1.,  0.],\n",
       "        [ 1.,  0.,  1., ..., -1., -1.,  0.],\n",
       "        [ 2.,  0.,  0., ..., -1., -1.,  0.],\n",
       "        ...,\n",
       "        [75.,  0.,  0., ..., -1., -1.,  0.],\n",
       "        [76.,  0.,  0., ..., -1., -1.,  0.],\n",
       "        [77.,  0.,  0., ..., -1., -1.,  0.]],\n",
       "\n",
       "       [[ 0.,  1.,  0., ..., -1., -1.,  0.],\n",
       "        [ 1.,  0.,  1., ..., -1., -1.,  0.],\n",
       "        [ 2.,  0.,  0., ..., -1., -1.,  0.],\n",
       "        ...,\n",
       "        [75.,  0.,  0., ..., -1., -1.,  0.],\n",
       "        [76.,  0.,  0., ..., -1., -1.,  0.],\n",
       "        [77.,  0.,  0., ..., -1., -1.,  0.]],\n",
       "\n",
       "       [[ 0.,  1.,  0., ..., -1., -1.,  0.],\n",
       "        [ 1.,  0.,  1., ..., -1., -1.,  0.],\n",
       "        [ 2.,  0.,  0., ..., -1., -1.,  0.],\n",
       "        ...,\n",
       "        [75.,  0.,  0., ..., -1., -1.,  0.],\n",
       "        [76.,  0.,  0., ..., -1., -1.,  0.],\n",
       "        [77.,  0.,  0., ..., -1., -1.,  0.]],\n",
       "\n",
       "       ...,\n",
       "\n",
       "       [[ 0.,  1.,  0., ...,  1.,  1.,  0.],\n",
       "        [ 1.,  0.,  1., ...,  1.,  1.,  0.],\n",
       "        [ 2.,  0.,  0., ...,  1.,  1.,  0.],\n",
       "        ...,\n",
       "        [75.,  0.,  0., ...,  1.,  1.,  0.],\n",
       "        [76.,  0.,  0., ...,  1.,  1.,  0.],\n",
       "        [77.,  0.,  0., ...,  1.,  1.,  0.]],\n",
       "\n",
       "       [[ 0.,  1.,  0., ...,  1.,  1.,  0.],\n",
       "        [ 1.,  0.,  1., ...,  1.,  1.,  0.],\n",
       "        [ 2.,  0.,  0., ...,  1.,  1.,  0.],\n",
       "        ...,\n",
       "        [75.,  0.,  0., ...,  1.,  1.,  0.],\n",
       "        [76.,  0.,  0., ...,  1.,  1.,  0.],\n",
       "        [77.,  0.,  0., ...,  1.,  1.,  0.]],\n",
       "\n",
       "       [[ 0.,  1.,  0., ...,  1.,  1.,  0.],\n",
       "        [ 1.,  0.,  1., ...,  1.,  1.,  0.],\n",
       "        [ 2.,  0.,  0., ...,  1.,  1.,  0.],\n",
       "        ...,\n",
       "        [75.,  0.,  0., ...,  1.,  1.,  0.],\n",
       "        [76.,  0.,  0., ...,  1.,  1.,  0.],\n",
       "        [77.,  0.,  0., ...,  1.,  1.,  0.]]])>"
      ]
     },
     "execution_count": 44,
     "metadata": {},
     "output_type": "execute_result"
    }
   ],
   "source": [
    "sample_in"
   ]
  },
  {
   "cell_type": "code",
   "execution_count": 46,
   "metadata": {},
   "outputs": [
    {
     "name": "stdout",
     "output_type": "stream",
     "text": [
      "WARNING:tensorflow:Layer lstm_13 is casting an input tensor from dtype float64 to the layer's dtype of float32, which is new behavior in TensorFlow 2.  The layer has dtype float32 because it's dtype defaults to floatx.\n",
      "\n",
      "If you intended to run this layer in float32, you can safely ignore this warning. If in doubt, this warning is likely only an issue if you are porting a TensorFlow 1.X model to TensorFlow 2.\n",
      "\n",
      "To change all layers to have dtype float64 by default, call `tf.keras.backend.set_floatx('float64')`. To change just this layer, pass dtype='float64' to the layer constructor. If you are the author of this layer, you can disable autocasting by passing autocast=False to the base Layer constructor.\n",
      "\n"
     ]
    }
   ],
   "source": [
    "x,y,z=tf.keras.layers.LSTM(4, return_sequences=True, stateful=True, return_state=True)(sample_in)"
   ]
  },
  {
   "cell_type": "code",
   "execution_count": 48,
   "metadata": {},
   "outputs": [
    {
     "name": "stdout",
     "output_type": "stream",
     "text": [
      "(128, 78, 4)\n",
      "(128, 4)\n",
      "(128, 4)\n"
     ]
    }
   ],
   "source": [
    "print(x.shape)\n",
    "print(y.shape)\n",
    "print(z.shape)\n"
   ]
  },
  {
   "cell_type": "code",
   "execution_count": 5,
   "metadata": {},
   "outputs": [],
   "source": [
    "piece_batch=getPieceBatch(piece)"
   ]
  },
  {
   "cell_type": "code",
   "execution_count": 72,
   "metadata": {},
   "outputs": [
    {
     "name": "stdout",
     "output_type": "stream",
     "text": [
      "(10, 128, 78, 80)\n",
      "(10, 128, 78, 2)\n"
     ]
    }
   ],
   "source": [
    "batch_sample_in=piece_batch[0]\n",
    "print(batch_sample_in.shape)\n",
    "batch_sample_out=piece_batch[1]\n",
    "print(batch_sample_out.shape)"
   ]
  },
  {
   "cell_type": "code",
   "execution_count": 63,
   "metadata": {},
   "outputs": [],
   "source": [
    "inputs = tf.keras.Input(shape=(128,78,80))\n",
    "\n",
    "inputs_rotate= tf.keras.backend.permute_dimensions(inputs,(0,2,1,3)) #(78,128,80)\n",
    "\n",
    "time_lstm1 = tf.keras.layers.LSTM(80,return_sequences=True)\n",
    "time_lstm2 = tf.keras.layers.LSTM(3,return_sequences=True)\n",
    "\n",
    "inter1 = tf.keras.layers.TimeDistributed(time_lstm1)(inputs_rotate) #(78,128,80)\n",
    "inter2 = tf.keras.layers.TimeDistributed(time_lstm2)(inter1) #(78,128,80)\n",
    "\n",
    "note_lstm1 = tf.keras.layers.LSTM(3,return_sequences=True)\n",
    "note_lstm2 = tf.keras.layers.LSTM(3,return_sequences=True)\n",
    "\n",
    "inter2_rotate= tf.keras.backend.permute_dimensions(inter2,(0,2,1,3)) #(128,78,80)\n",
    "\n",
    "inter3 = tf.keras.layers.TimeDistributed(note_lstm1)(inter2_rotate)\n",
    "inter4 = tf.keras.layers.TimeDistributed(note_lstm2)(inter3)\n",
    "\n",
    "outputs = tf.keras.layers.Dense(2)(inter4)"
   ]
  },
  {
   "cell_type": "code",
   "execution_count": 64,
   "metadata": {},
   "outputs": [
    {
     "name": "stdout",
     "output_type": "stream",
     "text": [
      "(None, 128, 78, 80)\n",
      "(None, 78, 128, 80)\n",
      "(None, 78, 128, 80)\n",
      "(None, 78, 128, 3)\n",
      "(None, 128, 78, 3)\n",
      "(None, 128, 78, 3)\n",
      "(None, 128, 78, 3)\n",
      "(None, 128, 78, 2)\n"
     ]
    }
   ],
   "source": [
    "print(inputs.shape)\n",
    "print(inputs_rotate.shape)\n",
    "print(inter1.shape)\n",
    "print(inter2.shape)\n",
    "print(inter2_rotate.shape)\n",
    "print(inter3.shape)\n",
    "print(inter4.shape)\n",
    "print(outputs.shape)"
   ]
  },
  {
   "cell_type": "code",
   "execution_count": 80,
   "metadata": {},
   "outputs": [],
   "source": [
    "model=tf.keras.Model(inputs=inputs,outputs=outputs)\n"
   ]
  },
  {
   "cell_type": "code",
   "execution_count": 81,
   "metadata": {},
   "outputs": [
    {
     "name": "stdout",
     "output_type": "stream",
     "text": [
      "Model: \"model_3\"\n",
      "_________________________________________________________________\n",
      "Layer (type)                 Output Shape              Param #   \n",
      "=================================================================\n",
      "input_15 (InputLayer)        [(None, 128, 78, 80)]     0         \n",
      "_________________________________________________________________\n",
      "tf_op_layer_Transpose_17 (Te [(None, 78, 128, 80)]     0         \n",
      "_________________________________________________________________\n",
      "time_distributed_36 (TimeDis (None, 78, 128, 80)       51520     \n",
      "_________________________________________________________________\n",
      "time_distributed_37 (TimeDis (None, 78, 128, 3)        1008      \n",
      "_________________________________________________________________\n",
      "tf_op_layer_Transpose_18 (Te [(None, 128, 78, 3)]      0         \n",
      "_________________________________________________________________\n",
      "time_distributed_38 (TimeDis (None, 128, 78, 3)        84        \n",
      "_________________________________________________________________\n",
      "time_distributed_39 (TimeDis (None, 128, 78, 3)        84        \n",
      "_________________________________________________________________\n",
      "dense_3 (Dense)              (None, 128, 78, 2)        8         \n",
      "=================================================================\n",
      "Total params: 52,704\n",
      "Trainable params: 52,704\n",
      "Non-trainable params: 0\n",
      "_________________________________________________________________\n"
     ]
    }
   ],
   "source": [
    "model.summary()"
   ]
  },
  {
   "cell_type": "code",
   "execution_count": 82,
   "metadata": {},
   "outputs": [],
   "source": [
    "model.compile(loss='categorical_crossentropy', optimizer='Adam')"
   ]
  },
  {
   "cell_type": "code",
   "execution_count": 85,
   "metadata": {},
   "outputs": [],
   "source": [
    "def batch_gen():\n",
    "    while True:\n",
    "        batch=getPieceBatch(piece)\n",
    "        yield (batch[0],batch[1])"
   ]
  },
  {
   "cell_type": "code",
   "execution_count": 87,
   "metadata": {},
   "outputs": [
    {
     "data": {
      "text/plain": [
       "<generator object batch_gen at 0x7fb9e6d62cd0>"
      ]
     },
     "execution_count": 87,
     "metadata": {},
     "output_type": "execute_result"
    }
   ],
   "source": [
    "gen=batch_gen()\n",
    "gen"
   ]
  },
  {
   "cell_type": "code",
   "execution_count": 89,
   "metadata": {},
   "outputs": [
    {
     "name": "stdout",
     "output_type": "stream",
     "text": [
      "Epoch 1/20\n",
      "20/20 [==============================] - 39s 2s/step - loss: 0.0310\n",
      "Epoch 2/20\n",
      "20/20 [==============================] - 40s 2s/step - loss: 0.0293\n",
      "Epoch 3/20\n",
      "20/20 [==============================] - 38s 2s/step - loss: 0.0283\n",
      "Epoch 4/20\n",
      "20/20 [==============================] - 38s 2s/step - loss: 0.0281\n",
      "Epoch 5/20\n",
      "20/20 [==============================] - 40s 2s/step - loss: 0.0342\n",
      "Epoch 6/20\n",
      "20/20 [==============================] - 38s 2s/step - loss: 0.0393\n",
      "Epoch 7/20\n",
      "20/20 [==============================] - 38s 2s/step - loss: 0.0333\n",
      "Epoch 8/20\n",
      "20/20 [==============================] - 40s 2s/step - loss: 0.0320\n",
      "Epoch 9/20\n",
      "20/20 [==============================] - 38s 2s/step - loss: 0.0294\n",
      "Epoch 10/20\n",
      "20/20 [==============================] - 38s 2s/step - loss: 0.0277\n",
      "Epoch 11/20\n",
      "20/20 [==============================] - 40s 2s/step - loss: 0.0263\n",
      "Epoch 12/20\n",
      "20/20 [==============================] - 38s 2s/step - loss: 0.0250\n",
      "Epoch 13/20\n",
      "20/20 [==============================] - 40s 2s/step - loss: 0.0255\n",
      "Epoch 14/20\n",
      "20/20 [==============================] - 39s 2s/step - loss: 0.0254\n",
      "Epoch 15/20\n",
      "20/20 [==============================] - 41s 2s/step - loss: 0.0250\n",
      "Epoch 16/20\n",
      "20/20 [==============================] - 43s 2s/step - loss: 0.0305\n",
      "Epoch 17/20\n",
      "20/20 [==============================] - 40s 2s/step - loss: 0.0295\n",
      "Epoch 18/20\n",
      "20/20 [==============================] - 41s 2s/step - loss: 0.0282\n",
      "Epoch 19/20\n",
      "20/20 [==============================] - 43s 2s/step - loss: 0.0256\n",
      "Epoch 20/20\n",
      "20/20 [==============================] - 42s 2s/step - loss: 0.0256\n"
     ]
    },
    {
     "data": {
      "text/plain": [
       "<tensorflow.python.keras.callbacks.History at 0x7fb9eda64410>"
      ]
     },
     "execution_count": 89,
     "metadata": {},
     "output_type": "execute_result"
    }
   ],
   "source": [
    "model.fit_generator(gen,epochs=20,steps_per_epoch=20)"
   ]
  },
  {
   "cell_type": "code",
   "execution_count": 78,
   "metadata": {},
   "outputs": [
    {
     "data": {
      "text/plain": [
       "array([[[[-1.0550620e-03,  9.8814047e-04],\n",
       "         [-1.8512595e-03,  7.9484761e-04],\n",
       "         [-2.1429136e-03,  1.0121426e-03],\n",
       "         ...,\n",
       "         [-4.2161275e-02, -1.7985332e-01],\n",
       "         [-4.2025354e-02, -1.7958283e-01],\n",
       "         [-4.2874381e-02, -1.7961159e-01]],\n",
       "\n",
       "        [[-1.1308468e-04,  1.5475387e-03],\n",
       "         [-1.1729083e-03,  1.5339856e-03],\n",
       "         [-9.4266311e-04,  2.5368836e-03],\n",
       "         ...,\n",
       "         [-7.6267138e-02, -3.0307859e-01],\n",
       "         [-7.5431153e-02, -3.0151436e-01],\n",
       "         [-7.6581381e-02, -3.0038917e-01]],\n",
       "\n",
       "        [[ 2.0089280e-04,  1.2428381e-03],\n",
       "         [-8.2197785e-04,  5.3085049e-04],\n",
       "         [ 6.7224598e-04,  1.8437505e-03],\n",
       "         ...,\n",
       "         [-9.4751462e-02, -3.7570331e-01],\n",
       "         [-9.2851274e-02, -3.7334526e-01],\n",
       "         [-9.3376607e-02, -3.7141582e-01]],\n",
       "\n",
       "        ...,\n",
       "\n",
       "        [[ 4.8230803e-03,  4.5317872e-03],\n",
       "         [ 8.6049177e-03,  7.9765460e-03],\n",
       "         [ 1.6099118e-02,  1.9037379e-02],\n",
       "         ...,\n",
       "         [-1.9562711e-01, -5.3219169e-01],\n",
       "         [-1.9612436e-01, -5.3307641e-01],\n",
       "         [-1.9136068e-01, -5.3040767e-01]],\n",
       "\n",
       "        [[ 5.3373845e-03,  4.9389396e-03],\n",
       "         [ 9.6076056e-03,  9.0803094e-03],\n",
       "         [ 1.7509537e-02,  2.0768663e-02],\n",
       "         ...,\n",
       "         [-1.9429420e-01, -5.2948242e-01],\n",
       "         [-1.9481289e-01, -5.3035432e-01],\n",
       "         [-1.9046374e-01, -5.2786124e-01]],\n",
       "\n",
       "        [[ 5.8180783e-03,  5.1411521e-03],\n",
       "         [ 1.0541787e-02,  9.5489593e-03],\n",
       "         [ 1.8711666e-02,  2.0787247e-02],\n",
       "         ...,\n",
       "         [-1.9480287e-01, -5.2953595e-01],\n",
       "         [-1.9539094e-01, -5.3046566e-01],\n",
       "         [-1.9124682e-01, -5.2802992e-01]]]], dtype=float32)"
      ]
     },
     "execution_count": 78,
     "metadata": {},
     "output_type": "execute_result"
    }
   ],
   "source": [
    "pred=model.predict(np.asarray(sample_in).reshape(1,128,78,80))\n",
    "pred.shape\n",
    "pred"
   ]
  },
  {
   "cell_type": "code",
   "execution_count": null,
   "metadata": {},
   "outputs": [],
   "source": []
  },
  {
   "cell_type": "code",
   "execution_count": null,
   "metadata": {},
   "outputs": [],
   "source": []
  },
  {
   "cell_type": "code",
   "execution_count": null,
   "metadata": {},
   "outputs": [],
   "source": []
  },
  {
   "cell_type": "code",
   "execution_count": null,
   "metadata": {},
   "outputs": [],
   "source": []
  },
  {
   "cell_type": "code",
   "execution_count": null,
   "metadata": {},
   "outputs": [],
   "source": [
    "## time axis only\n",
    "model=tf.keras.Sequential()\n",
    "model.add(tf.keras.layers.LSTM(24,  return_sequences=True, stateful=True,\n",
    "                     batch_input_shape=(10, 128, 78)))\n"
   ]
  },
  {
   "cell_type": "code",
   "execution_count": null,
   "metadata": {},
   "outputs": [],
   "source": [
    "## note axis only\n"
   ]
  },
  {
   "cell_type": "code",
   "execution_count": 14,
   "metadata": {},
   "outputs": [],
   "source": [
    "## biaxial model\n",
    "import tensorflow as tf\n",
    "\n"
   ]
  },
  {
   "cell_type": "code",
   "execution_count": null,
   "metadata": {},
   "outputs": [],
   "source": [
    "model=tf.keras.Sequential()\n",
    "model.add(tf.keras.layers.LSTM(3,  return_sequences=True, stateful=True,\n",
    "                     batch_input_shape=(10, 128, 78)))\n"
   ]
  },
  {
   "cell_type": "code",
   "execution_count": null,
   "metadata": {},
   "outputs": [],
   "source": [
    "model.add(tf.keras.layers.Dropout(0.2))\n",
    "model.add(tf.keras.layers.LSTM(512, return_sequences=False))\n",
    "model.add(Dense(78))\n",
    "model.add(Activation('sigmoid'))\n",
    "model.compile(loss='categorical_crossentropy', optimizer='rmsprop')"
   ]
  }
 ],
 "metadata": {
  "kernelspec": {
   "display_name": "Python 3",
   "language": "python",
   "name": "python3"
  },
  "language_info": {
   "codemirror_mode": {
    "name": "ipython",
    "version": 3
   },
   "file_extension": ".py",
   "mimetype": "text/x-python",
   "name": "python",
   "nbconvert_exporter": "python",
   "pygments_lexer": "ipython3",
   "version": "3.7.7"
  }
 },
 "nbformat": 4,
 "nbformat_minor": 4
}
